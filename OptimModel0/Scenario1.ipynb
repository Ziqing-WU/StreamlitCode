{
 "cells": [
  {
   "cell_type": "code",
   "execution_count": 1,
   "metadata": {},
   "outputs": [],
   "source": [
    "import pandas as pd\n",
    "import plotly.express as px\n",
    "import plotly.graph_objects as go\n",
    "import numpy as np\n",
    "import math\n",
    "from gurobipy import Model, GRB, quicksum"
   ]
  },
  {
   "cell_type": "markdown",
   "metadata": {},
   "source": [
    "# Section 0 Archive"
   ]
  },
  {
   "cell_type": "code",
   "execution_count": 110,
   "metadata": {},
   "outputs": [
    {
     "data": {
      "text/html": [
       "<div>\n",
       "<style scoped>\n",
       "    .dataframe tbody tr th:only-of-type {\n",
       "        vertical-align: middle;\n",
       "    }\n",
       "\n",
       "    .dataframe tbody tr th {\n",
       "        vertical-align: top;\n",
       "    }\n",
       "\n",
       "    .dataframe thead th {\n",
       "        text-align: right;\n",
       "    }\n",
       "</style>\n",
       "<table border=\"1\" class=\"dataframe\">\n",
       "  <thead>\n",
       "    <tr style=\"text-align: right;\">\n",
       "      <th></th>\n",
       "      <th>Code Commune</th>\n",
       "      <th>Longitude</th>\n",
       "      <th>Latitude</th>\n",
       "    </tr>\n",
       "  </thead>\n",
       "  <tbody>\n",
       "    <tr>\n",
       "      <th>0</th>\n",
       "      <td>01001</td>\n",
       "      <td>4.9209</td>\n",
       "      <td>46.1508</td>\n",
       "    </tr>\n",
       "    <tr>\n",
       "      <th>1</th>\n",
       "      <td>01002</td>\n",
       "      <td>5.4233</td>\n",
       "      <td>46.0072</td>\n",
       "    </tr>\n",
       "    <tr>\n",
       "      <th>2</th>\n",
       "      <td>01004</td>\n",
       "      <td>5.3596</td>\n",
       "      <td>45.9584</td>\n",
       "    </tr>\n",
       "    <tr>\n",
       "      <th>3</th>\n",
       "      <td>01005</td>\n",
       "      <td>4.9030</td>\n",
       "      <td>45.9959</td>\n",
       "    </tr>\n",
       "    <tr>\n",
       "      <th>4</th>\n",
       "      <td>01006</td>\n",
       "      <td>5.6011</td>\n",
       "      <td>45.7477</td>\n",
       "    </tr>\n",
       "  </tbody>\n",
       "</table>\n",
       "</div>"
      ],
      "text/plain": [
       "  Code Commune  Longitude  Latitude\n",
       "0        01001     4.9209   46.1508\n",
       "1        01002     5.4233   46.0072\n",
       "2        01004     5.3596   45.9584\n",
       "3        01005     4.9030   45.9959\n",
       "4        01006     5.6011   45.7477"
      ]
     },
     "execution_count": 110,
     "metadata": {},
     "output_type": "execute_result"
    }
   ],
   "source": [
    "# Rename dataframe columns\n",
    "df = pd.read_csv(r\"C:\\Users\\zwu\\OneDrive - IMT Mines Albi\\Documents\\Data\\ModelOptim\\General\\GeoPosition.csv\")\n",
    "df.head()\n"
   ]
  },
  {
   "cell_type": "markdown",
   "metadata": {},
   "source": [
    "## Generate a map from a list of code_communes"
   ]
  },
  {
   "cell_type": "code",
   "execution_count": 111,
   "metadata": {},
   "outputs": [
    {
     "name": "stdout",
     "output_type": "stream",
     "text": [
      "48\n"
     ]
    }
   ],
   "source": [
    "demand_sites = [\n",
    "    \"75056\",\n",
    "    \"13055\",\n",
    "    \"69123\",\n",
    "    \"31555\",\n",
    "    \"06088\",\n",
    "    \"44109\",\n",
    "    \"34172\",\n",
    "    \"67482\",\n",
    "    \"33063\",\n",
    "    \"59350\",\n",
    "    \"35238\",\n",
    "    \"51454\",\n",
    "    \"83137\",\n",
    "    \"42218\"\n",
    "]\n",
    "\n",
    "# add arrondissments into communes list of demand\n",
    "if \"75056\" in demand_sites:\n",
    "    demand_sites+=[\"751\"+\"{:02}\".format(i+1) for i in range(20)]\n",
    "\n",
    "if \"13055\" in demand_sites:\n",
    "    demand_sites+=[\"132\"+\"{:02}\".format(i+1) for i in range(16)]\n",
    "\n",
    "if \"69123\" in demand_sites:\n",
    "    demand_sites+=[\"6938\"+str(i+1) for i in range(9)]\n",
    "\n",
    "code_communes = [\n",
    "    \"75056\", \"13055\", \"69123\", \"31555\", \"06088\", \"44109\", \"34172\", \"67482\",\n",
    "    \"33063\", \"59350\", \"35238\", \"51454\", \"83137\", \"42218\", \"76351\", \"21231\",\n",
    "    \"38185\", \"49007\", \"69266\", \"30189\", \"63113\", \"13001\", \"72181\", \"29019\",\n",
    "    \"37261\", \"80021\", \"74010\", \"87085\", \"92012\", \"57463\", \"25056\", \"66136\",\n",
    "    \"45234\", \"76540\", \"93066\", \"93048\", \"95018\", \"68224\", \"14118\", \"54395\",\n",
    "    \"59599\", \"59512\", \"92050\", \"94081\", \"94028\", \"84007\", \"86194\", \"93001\",\n",
    "    \"92004\", \"92025\", \"59183\", \"93005\", \"78646\", \"92026\", \"34032\", \"92063\",\n",
    "    \"50129\", \"94017\", \"17300\", \"64445\", \"06004\", \"94068\", \"33281\", \"2A004\",\n",
    "    \"06029\", \"44184\", \"93029\", \"93051\", \"68066\", \"92040\", \"95127\", \"62193\",\n",
    "    \"92044\", \"69259\", \"91228\", \"33318\", \"26362\", \"18033\", \"94041\", \"29232\"\n",
    "]\n",
    "\n",
    "code_communes_excluded = [code for code in code_communes if code.startswith('9')] + [\"75056\", \"59599\", \"59350\", \"69266\", \"69259\", \"33063\", \"33281\", \"06004\", \"06029\", \"2A004\"]\n",
    "\n",
    "code_communes = [code for code in code_communes if code not in code_communes_excluded]\n",
    "\n",
    "# Amazon Warehouses\n",
    "# code_communes = [\"45320\", \"26198\", \"71520\", \"59334\", \"80131\", \"38475\", \"77104\", \"45008\", \"77296\"]\n",
    "\n",
    "\n",
    "print(len(code_communes))"
   ]
  },
  {
   "cell_type": "code",
   "execution_count": 112,
   "metadata": {},
   "outputs": [
    {
     "data": {
      "application/vnd.plotly.v1+json": {
       "config": {
        "plotlyServerURL": "https://plot.ly"
       },
       "data": [
        {
         "hovertemplate": "<b>%{hovertext}</b><br><br>Latitude=%{lat}<br>Longitude=%{lon}<extra></extra>",
         "hovertext": [
          "06088",
          "13001",
          "13055",
          "14118",
          "17300",
          "18033",
          "21231",
          "25056",
          "26362",
          "29019",
          "29232",
          "30189",
          "31555",
          "33318",
          "34032",
          "34172",
          "35238",
          "37261",
          "38185",
          "42218",
          "44109",
          "44184",
          "45234",
          "49007",
          "50129",
          "51454",
          "54395",
          "57463",
          "59183",
          "59512",
          "62193",
          "63113",
          "64445",
          "66136",
          "67482",
          "68066",
          "68224",
          "69123",
          "72181",
          "74010",
          "76351",
          "76540",
          "78646",
          "80021",
          "83137",
          "84007",
          "86194",
          "87085"
         ],
         "lat": [
          43.696,
          43.5299,
          43.2966,
          49.1812,
          46.1597,
          47.0806,
          47.3218,
          47.2377,
          44.9333,
          48.3913,
          47.9965,
          43.8367,
          43.6046,
          44.8057,
          43.343,
          43.5985,
          48.1116,
          47.3908,
          45.1864,
          45.4402,
          47.2184,
          47.2733,
          47.9029,
          47.4712,
          49.6424,
          49.2582,
          48.6929,
          49.1196,
          51.0377,
          50.691,
          50.9526,
          45.7797,
          43.2948,
          42.6994,
          48.5733,
          48.0793,
          47.7505,
          45.7676,
          48.0075,
          45.8993,
          49.4943,
          49.4435,
          48.8012,
          49.8943,
          43.1204,
          43.9493,
          46.5801,
          45.8263
         ],
         "legendgroup": "",
         "lon": [
          7.2715,
          5.4474,
          5.3699,
          -0.3729,
          -1.1514,
          2.3989,
          5.0423,
          6.0241,
          4.8921,
          -4.4851,
          -4.102,
          4.3603,
          1.4442,
          -0.6303,
          3.2139,
          3.8968,
          -1.6801,
          0.6895,
          5.7364,
          4.3873,
          -1.5543,
          -2.2139,
          1.9093,
          -0.548,
          -1.6243,
          4.0315,
          6.1837,
          6.1764,
          2.3766,
          3.174,
          1.8546,
          3.0865,
          -0.3708,
          2.8945,
          7.752,
          7.3581,
          7.336,
          4.835,
          0.1973,
          6.1294,
          0.1078,
          1.1001,
          2.1303,
          2.2957,
          5.9325,
          4.8053,
          0.3412,
          1.2605
         ],
         "marker": {
          "color": "#636efa"
         },
         "mode": "markers",
         "name": "",
         "showlegend": false,
         "subplot": "mapbox",
         "type": "scattermapbox"
        }
       ],
       "layout": {
        "height": 1000,
        "legend": {
         "tracegroupgap": 0
        },
        "mapbox": {
         "accesstoken": "pk.eyJ1Ijoiend1LTE5IiwiYSI6ImNsNnc3a3Z3czA1dHUzY28xZjd6dzlvZDgifQ.BiY-VgoH8CR03_PckJLbpA",
         "center": {
          "lat": 46.79923125000001,
          "lon": 2.598120833333333
         },
         "domain": {
          "x": [
           0,
           1
          ],
          "y": [
           0,
           1
          ]
         },
         "style": "open-street-map",
         "zoom": 5
        },
        "margin": {
         "t": 60
        },
        "template": {
         "data": {
          "bar": [
           {
            "error_x": {
             "color": "#2a3f5f"
            },
            "error_y": {
             "color": "#2a3f5f"
            },
            "marker": {
             "line": {
              "color": "#E5ECF6",
              "width": 0.5
             },
             "pattern": {
              "fillmode": "overlay",
              "size": 10,
              "solidity": 0.2
             }
            },
            "type": "bar"
           }
          ],
          "barpolar": [
           {
            "marker": {
             "line": {
              "color": "#E5ECF6",
              "width": 0.5
             },
             "pattern": {
              "fillmode": "overlay",
              "size": 10,
              "solidity": 0.2
             }
            },
            "type": "barpolar"
           }
          ],
          "carpet": [
           {
            "aaxis": {
             "endlinecolor": "#2a3f5f",
             "gridcolor": "white",
             "linecolor": "white",
             "minorgridcolor": "white",
             "startlinecolor": "#2a3f5f"
            },
            "baxis": {
             "endlinecolor": "#2a3f5f",
             "gridcolor": "white",
             "linecolor": "white",
             "minorgridcolor": "white",
             "startlinecolor": "#2a3f5f"
            },
            "type": "carpet"
           }
          ],
          "choropleth": [
           {
            "colorbar": {
             "outlinewidth": 0,
             "ticks": ""
            },
            "type": "choropleth"
           }
          ],
          "contour": [
           {
            "colorbar": {
             "outlinewidth": 0,
             "ticks": ""
            },
            "colorscale": [
             [
              0,
              "#0d0887"
             ],
             [
              0.1111111111111111,
              "#46039f"
             ],
             [
              0.2222222222222222,
              "#7201a8"
             ],
             [
              0.3333333333333333,
              "#9c179e"
             ],
             [
              0.4444444444444444,
              "#bd3786"
             ],
             [
              0.5555555555555556,
              "#d8576b"
             ],
             [
              0.6666666666666666,
              "#ed7953"
             ],
             [
              0.7777777777777778,
              "#fb9f3a"
             ],
             [
              0.8888888888888888,
              "#fdca26"
             ],
             [
              1,
              "#f0f921"
             ]
            ],
            "type": "contour"
           }
          ],
          "contourcarpet": [
           {
            "colorbar": {
             "outlinewidth": 0,
             "ticks": ""
            },
            "type": "contourcarpet"
           }
          ],
          "heatmap": [
           {
            "colorbar": {
             "outlinewidth": 0,
             "ticks": ""
            },
            "colorscale": [
             [
              0,
              "#0d0887"
             ],
             [
              0.1111111111111111,
              "#46039f"
             ],
             [
              0.2222222222222222,
              "#7201a8"
             ],
             [
              0.3333333333333333,
              "#9c179e"
             ],
             [
              0.4444444444444444,
              "#bd3786"
             ],
             [
              0.5555555555555556,
              "#d8576b"
             ],
             [
              0.6666666666666666,
              "#ed7953"
             ],
             [
              0.7777777777777778,
              "#fb9f3a"
             ],
             [
              0.8888888888888888,
              "#fdca26"
             ],
             [
              1,
              "#f0f921"
             ]
            ],
            "type": "heatmap"
           }
          ],
          "heatmapgl": [
           {
            "colorbar": {
             "outlinewidth": 0,
             "ticks": ""
            },
            "colorscale": [
             [
              0,
              "#0d0887"
             ],
             [
              0.1111111111111111,
              "#46039f"
             ],
             [
              0.2222222222222222,
              "#7201a8"
             ],
             [
              0.3333333333333333,
              "#9c179e"
             ],
             [
              0.4444444444444444,
              "#bd3786"
             ],
             [
              0.5555555555555556,
              "#d8576b"
             ],
             [
              0.6666666666666666,
              "#ed7953"
             ],
             [
              0.7777777777777778,
              "#fb9f3a"
             ],
             [
              0.8888888888888888,
              "#fdca26"
             ],
             [
              1,
              "#f0f921"
             ]
            ],
            "type": "heatmapgl"
           }
          ],
          "histogram": [
           {
            "marker": {
             "pattern": {
              "fillmode": "overlay",
              "size": 10,
              "solidity": 0.2
             }
            },
            "type": "histogram"
           }
          ],
          "histogram2d": [
           {
            "colorbar": {
             "outlinewidth": 0,
             "ticks": ""
            },
            "colorscale": [
             [
              0,
              "#0d0887"
             ],
             [
              0.1111111111111111,
              "#46039f"
             ],
             [
              0.2222222222222222,
              "#7201a8"
             ],
             [
              0.3333333333333333,
              "#9c179e"
             ],
             [
              0.4444444444444444,
              "#bd3786"
             ],
             [
              0.5555555555555556,
              "#d8576b"
             ],
             [
              0.6666666666666666,
              "#ed7953"
             ],
             [
              0.7777777777777778,
              "#fb9f3a"
             ],
             [
              0.8888888888888888,
              "#fdca26"
             ],
             [
              1,
              "#f0f921"
             ]
            ],
            "type": "histogram2d"
           }
          ],
          "histogram2dcontour": [
           {
            "colorbar": {
             "outlinewidth": 0,
             "ticks": ""
            },
            "colorscale": [
             [
              0,
              "#0d0887"
             ],
             [
              0.1111111111111111,
              "#46039f"
             ],
             [
              0.2222222222222222,
              "#7201a8"
             ],
             [
              0.3333333333333333,
              "#9c179e"
             ],
             [
              0.4444444444444444,
              "#bd3786"
             ],
             [
              0.5555555555555556,
              "#d8576b"
             ],
             [
              0.6666666666666666,
              "#ed7953"
             ],
             [
              0.7777777777777778,
              "#fb9f3a"
             ],
             [
              0.8888888888888888,
              "#fdca26"
             ],
             [
              1,
              "#f0f921"
             ]
            ],
            "type": "histogram2dcontour"
           }
          ],
          "mesh3d": [
           {
            "colorbar": {
             "outlinewidth": 0,
             "ticks": ""
            },
            "type": "mesh3d"
           }
          ],
          "parcoords": [
           {
            "line": {
             "colorbar": {
              "outlinewidth": 0,
              "ticks": ""
             }
            },
            "type": "parcoords"
           }
          ],
          "pie": [
           {
            "automargin": true,
            "type": "pie"
           }
          ],
          "scatter": [
           {
            "fillpattern": {
             "fillmode": "overlay",
             "size": 10,
             "solidity": 0.2
            },
            "type": "scatter"
           }
          ],
          "scatter3d": [
           {
            "line": {
             "colorbar": {
              "outlinewidth": 0,
              "ticks": ""
             }
            },
            "marker": {
             "colorbar": {
              "outlinewidth": 0,
              "ticks": ""
             }
            },
            "type": "scatter3d"
           }
          ],
          "scattercarpet": [
           {
            "marker": {
             "colorbar": {
              "outlinewidth": 0,
              "ticks": ""
             }
            },
            "type": "scattercarpet"
           }
          ],
          "scattergeo": [
           {
            "marker": {
             "colorbar": {
              "outlinewidth": 0,
              "ticks": ""
             }
            },
            "type": "scattergeo"
           }
          ],
          "scattergl": [
           {
            "marker": {
             "colorbar": {
              "outlinewidth": 0,
              "ticks": ""
             }
            },
            "type": "scattergl"
           }
          ],
          "scattermapbox": [
           {
            "marker": {
             "colorbar": {
              "outlinewidth": 0,
              "ticks": ""
             }
            },
            "type": "scattermapbox"
           }
          ],
          "scatterpolar": [
           {
            "marker": {
             "colorbar": {
              "outlinewidth": 0,
              "ticks": ""
             }
            },
            "type": "scatterpolar"
           }
          ],
          "scatterpolargl": [
           {
            "marker": {
             "colorbar": {
              "outlinewidth": 0,
              "ticks": ""
             }
            },
            "type": "scatterpolargl"
           }
          ],
          "scatterternary": [
           {
            "marker": {
             "colorbar": {
              "outlinewidth": 0,
              "ticks": ""
             }
            },
            "type": "scatterternary"
           }
          ],
          "surface": [
           {
            "colorbar": {
             "outlinewidth": 0,
             "ticks": ""
            },
            "colorscale": [
             [
              0,
              "#0d0887"
             ],
             [
              0.1111111111111111,
              "#46039f"
             ],
             [
              0.2222222222222222,
              "#7201a8"
             ],
             [
              0.3333333333333333,
              "#9c179e"
             ],
             [
              0.4444444444444444,
              "#bd3786"
             ],
             [
              0.5555555555555556,
              "#d8576b"
             ],
             [
              0.6666666666666666,
              "#ed7953"
             ],
             [
              0.7777777777777778,
              "#fb9f3a"
             ],
             [
              0.8888888888888888,
              "#fdca26"
             ],
             [
              1,
              "#f0f921"
             ]
            ],
            "type": "surface"
           }
          ],
          "table": [
           {
            "cells": {
             "fill": {
              "color": "#EBF0F8"
             },
             "line": {
              "color": "white"
             }
            },
            "header": {
             "fill": {
              "color": "#C8D4E3"
             },
             "line": {
              "color": "white"
             }
            },
            "type": "table"
           }
          ]
         },
         "layout": {
          "annotationdefaults": {
           "arrowcolor": "#2a3f5f",
           "arrowhead": 0,
           "arrowwidth": 1
          },
          "autotypenumbers": "strict",
          "coloraxis": {
           "colorbar": {
            "outlinewidth": 0,
            "ticks": ""
           }
          },
          "colorscale": {
           "diverging": [
            [
             0,
             "#8e0152"
            ],
            [
             0.1,
             "#c51b7d"
            ],
            [
             0.2,
             "#de77ae"
            ],
            [
             0.3,
             "#f1b6da"
            ],
            [
             0.4,
             "#fde0ef"
            ],
            [
             0.5,
             "#f7f7f7"
            ],
            [
             0.6,
             "#e6f5d0"
            ],
            [
             0.7,
             "#b8e186"
            ],
            [
             0.8,
             "#7fbc41"
            ],
            [
             0.9,
             "#4d9221"
            ],
            [
             1,
             "#276419"
            ]
           ],
           "sequential": [
            [
             0,
             "#0d0887"
            ],
            [
             0.1111111111111111,
             "#46039f"
            ],
            [
             0.2222222222222222,
             "#7201a8"
            ],
            [
             0.3333333333333333,
             "#9c179e"
            ],
            [
             0.4444444444444444,
             "#bd3786"
            ],
            [
             0.5555555555555556,
             "#d8576b"
            ],
            [
             0.6666666666666666,
             "#ed7953"
            ],
            [
             0.7777777777777778,
             "#fb9f3a"
            ],
            [
             0.8888888888888888,
             "#fdca26"
            ],
            [
             1,
             "#f0f921"
            ]
           ],
           "sequentialminus": [
            [
             0,
             "#0d0887"
            ],
            [
             0.1111111111111111,
             "#46039f"
            ],
            [
             0.2222222222222222,
             "#7201a8"
            ],
            [
             0.3333333333333333,
             "#9c179e"
            ],
            [
             0.4444444444444444,
             "#bd3786"
            ],
            [
             0.5555555555555556,
             "#d8576b"
            ],
            [
             0.6666666666666666,
             "#ed7953"
            ],
            [
             0.7777777777777778,
             "#fb9f3a"
            ],
            [
             0.8888888888888888,
             "#fdca26"
            ],
            [
             1,
             "#f0f921"
            ]
           ]
          },
          "colorway": [
           "#636efa",
           "#EF553B",
           "#00cc96",
           "#ab63fa",
           "#FFA15A",
           "#19d3f3",
           "#FF6692",
           "#B6E880",
           "#FF97FF",
           "#FECB52"
          ],
          "font": {
           "color": "#2a3f5f"
          },
          "geo": {
           "bgcolor": "white",
           "lakecolor": "white",
           "landcolor": "#E5ECF6",
           "showlakes": true,
           "showland": true,
           "subunitcolor": "white"
          },
          "hoverlabel": {
           "align": "left"
          },
          "hovermode": "closest",
          "mapbox": {
           "style": "light"
          },
          "paper_bgcolor": "white",
          "plot_bgcolor": "#E5ECF6",
          "polar": {
           "angularaxis": {
            "gridcolor": "white",
            "linecolor": "white",
            "ticks": ""
           },
           "bgcolor": "#E5ECF6",
           "radialaxis": {
            "gridcolor": "white",
            "linecolor": "white",
            "ticks": ""
           }
          },
          "scene": {
           "xaxis": {
            "backgroundcolor": "#E5ECF6",
            "gridcolor": "white",
            "gridwidth": 2,
            "linecolor": "white",
            "showbackground": true,
            "ticks": "",
            "zerolinecolor": "white"
           },
           "yaxis": {
            "backgroundcolor": "#E5ECF6",
            "gridcolor": "white",
            "gridwidth": 2,
            "linecolor": "white",
            "showbackground": true,
            "ticks": "",
            "zerolinecolor": "white"
           },
           "zaxis": {
            "backgroundcolor": "#E5ECF6",
            "gridcolor": "white",
            "gridwidth": 2,
            "linecolor": "white",
            "showbackground": true,
            "ticks": "",
            "zerolinecolor": "white"
           }
          },
          "shapedefaults": {
           "line": {
            "color": "#2a3f5f"
           }
          },
          "ternary": {
           "aaxis": {
            "gridcolor": "white",
            "linecolor": "white",
            "ticks": ""
           },
           "baxis": {
            "gridcolor": "white",
            "linecolor": "white",
            "ticks": ""
           },
           "bgcolor": "#E5ECF6",
           "caxis": {
            "gridcolor": "white",
            "linecolor": "white",
            "ticks": ""
           }
          },
          "title": {
           "x": 0.05
          },
          "xaxis": {
           "automargin": true,
           "gridcolor": "white",
           "linecolor": "white",
           "ticks": "",
           "title": {
            "standoff": 15
           },
           "zerolinecolor": "white",
           "zerolinewidth": 2
          },
          "yaxis": {
           "automargin": true,
           "gridcolor": "white",
           "linecolor": "white",
           "ticks": "",
           "title": {
            "standoff": 15
           },
           "zerolinecolor": "white",
           "zerolinewidth": 2
          }
         }
        },
        "width": 1000
       }
      }
     },
     "metadata": {},
     "output_type": "display_data"
    }
   ],
   "source": [
    "fig = px.scatter_mapbox(df[df[\"Code Commune\"].isin(code_communes)], lat='Latitude', lon='Longitude', hover_name='Code Commune',\n",
    "                        zoom=5, height=1000, width=1000, mapbox_style=\"open-street-map\")\n",
    "fig.update_layout()\n",
    "# Show the figure\n",
    "fig.show()"
   ]
  },
  {
   "cell_type": "markdown",
   "metadata": {},
   "source": [
    "## Generate Demand"
   ]
  },
  {
   "cell_type": "code",
   "execution_count": 113,
   "metadata": {},
   "outputs": [
    {
     "name": "stderr",
     "output_type": "stream",
     "text": [
      "C:\\Users\\zwu\\AppData\\Local\\Temp\\ipykernel_19168\\3248729707.py:41: DtypeWarning:\n",
      "\n",
      "Columns (0) have mixed types. Specify dtype option on import or set low_memory=False.\n",
      "\n"
     ]
    },
    {
     "data": {
      "text/html": [
       "<div>\n",
       "<style scoped>\n",
       "    .dataframe tbody tr th:only-of-type {\n",
       "        vertical-align: middle;\n",
       "    }\n",
       "\n",
       "    .dataframe tbody tr th {\n",
       "        vertical-align: top;\n",
       "    }\n",
       "\n",
       "    .dataframe thead th {\n",
       "        text-align: right;\n",
       "    }\n",
       "</style>\n",
       "<table border=\"1\" class=\"dataframe\">\n",
       "  <thead>\n",
       "    <tr style=\"text-align: right;\">\n",
       "      <th></th>\n",
       "      <th>Code commune de résidence</th>\n",
       "      <th>Commune de résidence</th>\n",
       "      <th>Carburant</th>\n",
       "      <th>Crit'Air</th>\n",
       "      <th>2022</th>\n",
       "    </tr>\n",
       "  </thead>\n",
       "  <tbody>\n",
       "    <tr>\n",
       "      <th>176009</th>\n",
       "      <td>75101</td>\n",
       "      <td>Paris 1er Arrondissement</td>\n",
       "      <td>Diesel</td>\n",
       "      <td>Crit'Air 3</td>\n",
       "      <td>318</td>\n",
       "    </tr>\n",
       "    <tr>\n",
       "      <th>176010</th>\n",
       "      <td>75101</td>\n",
       "      <td>Paris 1er Arrondissement</td>\n",
       "      <td>Diesel</td>\n",
       "      <td>Crit'Air 4</td>\n",
       "      <td>148</td>\n",
       "    </tr>\n",
       "    <tr>\n",
       "      <th>176011</th>\n",
       "      <td>75101</td>\n",
       "      <td>Paris 1er Arrondissement</td>\n",
       "      <td>Diesel</td>\n",
       "      <td>Crit'Air 5</td>\n",
       "      <td>29</td>\n",
       "    </tr>\n",
       "    <tr>\n",
       "      <th>176012</th>\n",
       "      <td>75101</td>\n",
       "      <td>Paris 1er Arrondissement</td>\n",
       "      <td>Diesel</td>\n",
       "      <td>Non classé</td>\n",
       "      <td>26</td>\n",
       "    </tr>\n",
       "    <tr>\n",
       "      <th>176013</th>\n",
       "      <td>75101</td>\n",
       "      <td>Paris 1er Arrondissement</td>\n",
       "      <td>Essence</td>\n",
       "      <td>Crit'Air 3</td>\n",
       "      <td>407</td>\n",
       "    </tr>\n",
       "    <tr>\n",
       "      <th>...</th>\n",
       "      <td>...</td>\n",
       "      <td>...</td>\n",
       "      <td>...</td>\n",
       "      <td>...</td>\n",
       "      <td>...</td>\n",
       "    </tr>\n",
       "    <tr>\n",
       "      <th>176124</th>\n",
       "      <td>75120</td>\n",
       "      <td>Paris 20e Arrondissement</td>\n",
       "      <td>Diesel</td>\n",
       "      <td>Crit'Air 4</td>\n",
       "      <td>1724</td>\n",
       "    </tr>\n",
       "    <tr>\n",
       "      <th>176125</th>\n",
       "      <td>75120</td>\n",
       "      <td>Paris 20e Arrondissement</td>\n",
       "      <td>Diesel</td>\n",
       "      <td>Crit'Air 5</td>\n",
       "      <td>341</td>\n",
       "    </tr>\n",
       "    <tr>\n",
       "      <th>176126</th>\n",
       "      <td>75120</td>\n",
       "      <td>Paris 20e Arrondissement</td>\n",
       "      <td>Diesel</td>\n",
       "      <td>Non classé</td>\n",
       "      <td>210</td>\n",
       "    </tr>\n",
       "    <tr>\n",
       "      <th>176127</th>\n",
       "      <td>75120</td>\n",
       "      <td>Paris 20e Arrondissement</td>\n",
       "      <td>Essence</td>\n",
       "      <td>Crit'Air 3</td>\n",
       "      <td>3854</td>\n",
       "    </tr>\n",
       "    <tr>\n",
       "      <th>176128</th>\n",
       "      <td>75120</td>\n",
       "      <td>Paris 20e Arrondissement</td>\n",
       "      <td>Essence</td>\n",
       "      <td>Non classé</td>\n",
       "      <td>1102</td>\n",
       "    </tr>\n",
       "  </tbody>\n",
       "</table>\n",
       "<p>120 rows × 5 columns</p>\n",
       "</div>"
      ],
      "text/plain": [
       "       Code commune de résidence      Commune de résidence Carburant  \\\n",
       "176009                     75101  Paris 1er Arrondissement    Diesel   \n",
       "176010                     75101  Paris 1er Arrondissement    Diesel   \n",
       "176011                     75101  Paris 1er Arrondissement    Diesel   \n",
       "176012                     75101  Paris 1er Arrondissement    Diesel   \n",
       "176013                     75101  Paris 1er Arrondissement   Essence   \n",
       "...                          ...                       ...       ...   \n",
       "176124                     75120  Paris 20e Arrondissement    Diesel   \n",
       "176125                     75120  Paris 20e Arrondissement    Diesel   \n",
       "176126                     75120  Paris 20e Arrondissement    Diesel   \n",
       "176127                     75120  Paris 20e Arrondissement   Essence   \n",
       "176128                     75120  Paris 20e Arrondissement   Essence   \n",
       "\n",
       "          Crit'Air  2022  \n",
       "176009  Crit'Air 3   318  \n",
       "176010  Crit'Air 4   148  \n",
       "176011  Crit'Air 5    29  \n",
       "176012  Non classé    26  \n",
       "176013  Crit'Air 3   407  \n",
       "...            ...   ...  \n",
       "176124  Crit'Air 4  1724  \n",
       "176125  Crit'Air 5   341  \n",
       "176126  Non classé   210  \n",
       "176127  Crit'Air 3  3854  \n",
       "176128  Non classé  1102  \n",
       "\n",
       "[120 rows x 5 columns]"
      ]
     },
     "execution_count": 113,
     "metadata": {},
     "output_type": "execute_result"
    }
   ],
   "source": [
    "def bass_coeff(t, p=0.0019, q=0.2):\n",
    "    return (1 - np.exp(-(p+q)*t))/(1+q/p*np.exp(-(p+q)*t))\n",
    "\n",
    "file_path = r\"C:\\Users\\zwu\\OneDrive - IMT Mines Albi\\Documents\\Data\\DemandForecasting\\Vehicles\\Parc automobile 2022\\parc_vp_commune_2022_cleaned.csv\"\n",
    "\n",
    "rows = ['Crit\\'Air 3', 'Crit\\'Air 4', 'Crit\\'Air 5', 'Non classé']\n",
    "columns = [1, 2, 3, 4]\n",
    "# initial_values = [\n",
    "#     [0.25, 0.20, 0.15, 0.10],\n",
    "#     [0.35, 0.30, 0.25, 0.20],\n",
    "#     [0.45, 0.40, 0.35, 0.30],\n",
    "#     [0.55, 0.50, 0.45, 0.40]\n",
    "# ]\n",
    "initial_values = [\n",
    "    [0.45, 0.40, 0.35, 0.30],\n",
    "    [0.55, 0.50, 0.45, 0.40],\n",
    "    [0.65, 0.60, 0.55, 0.50],\n",
    "    [0.75, 0.70, 0.65, 0.60]\n",
    "]\n",
    "percentage_table = pd.DataFrame(initial_values, index=rows, columns=columns)\n",
    "\n",
    "def ratio_pop_den_critair(pop_den, critair):\n",
    "    if pd.isna(pop_den) or pd.isna(critair):\n",
    "        return None\n",
    "    else:\n",
    "        return percentage_table[pop_den][critair]\n",
    "\n",
    "def calculate_num_retrofit(row):\n",
    "    # Check for NaN in either \"ratio\" or '2022'\n",
    "    if pd.isna(row[\"ratio\"]) or pd.isna(row['2022']):\n",
    "        return 0  # or some other appropriate default value\n",
    "    else:\n",
    "        return round(row[\"ratio\"] * row['2022'])\n",
    "\n",
    "pop_den = pd.read_csv(\"pop_den.csv\")\n",
    "pop_den.rename(columns={'Typo degr� de Densit�': 'Population Density'}, inplace=True)\n",
    "pop_den = pop_den[['Code Commune', 'Population Density', 'coordinates']]\n",
    "pop_den['lon'] = pop_den['coordinates'].str.strip('[]').str.split(',').str[0].astype(float)\n",
    "pop_den['lat'] = pop_den['coordinates'].str.strip('[]').str.split(',').str[1].astype(float)    \n",
    "\n",
    "parc_auto = pd.read_csv(file_path, encoding='ISO-8859-1')\n",
    "parc_auto = parc_auto.astype({\"Code commune de résidence\":str})\n",
    "# Take only the fleet for demand sites\n",
    "parc_auto = parc_auto[parc_auto[\"Code commune de résidence\"].isin(demand_sites)]\n",
    "parc_auto[parc_auto[\"Code commune de résidence\"].isin([\"751\"+\"{:02}\".format(i+1) for i in range(20)])]"
   ]
  },
  {
   "cell_type": "code",
   "execution_count": 114,
   "metadata": {},
   "outputs": [],
   "source": [
    "\n",
    "def replace_arrondissements(code):\n",
    "    mappings = {\n",
    "    (69381, 69389): '69123',\n",
    "    (75101, 75120): '75056', \n",
    "    (13201, 13216): '13055'\n",
    "    }\n",
    "    # Iterate through the mapping\n",
    "    for original_range, new_value in mappings.items():\n",
    "        start, end = original_range\n",
    "        # Generate the list of codes in the current range to be replaced\n",
    "        codes_to_replace = [str(i) for i in range(start, end + 1)]\n",
    "        if code in codes_to_replace:\n",
    "            return new_value\n",
    "        else: return code\n",
    "\n",
    "mapping_name = {\n",
    "    '69123':'Lyon',\n",
    "    '75056':'Paris',\n",
    "    '13055':'Marseille'}\n",
    "\n",
    "parc_auto[\"Code commune de résidence\"] = parc_auto[\"Code commune de résidence\"].apply(lambda x:replace_arrondissements(x))\n",
    "parc_auto.loc[parc_auto[\"Code commune de résidence\"].isin(mapping_name.keys()), 'Commune de résidence'] = parc_auto['Code commune de résidence'].map(mapping_name)"
   ]
  },
  {
   "cell_type": "code",
   "execution_count": 115,
   "metadata": {},
   "outputs": [],
   "source": [
    "parc_auto = parc_auto.groupby([\"Code commune de résidence\", \"Commune de résidence\", \"Carburant\", \"Crit\\'Air\"]).sum().reset_index()"
   ]
  },
  {
   "cell_type": "code",
   "execution_count": 116,
   "metadata": {},
   "outputs": [
    {
     "data": {
      "text/html": [
       "<div>\n",
       "<style scoped>\n",
       "    .dataframe tbody tr th:only-of-type {\n",
       "        vertical-align: middle;\n",
       "    }\n",
       "\n",
       "    .dataframe tbody tr th {\n",
       "        vertical-align: top;\n",
       "    }\n",
       "\n",
       "    .dataframe thead th {\n",
       "        text-align: right;\n",
       "    }\n",
       "</style>\n",
       "<table border=\"1\" class=\"dataframe\">\n",
       "  <thead>\n",
       "    <tr style=\"text-align: right;\">\n",
       "      <th></th>\n",
       "      <th>Code commune de résidence</th>\n",
       "      <th>Commune de résidence</th>\n",
       "      <th>num_retrofit</th>\n",
       "    </tr>\n",
       "  </thead>\n",
       "  <tbody>\n",
       "    <tr>\n",
       "      <th>0</th>\n",
       "      <td>06088</td>\n",
       "      <td>Nice</td>\n",
       "      <td>23309</td>\n",
       "    </tr>\n",
       "    <tr>\n",
       "      <th>1</th>\n",
       "      <td>13055</td>\n",
       "      <td>Marseille</td>\n",
       "      <td>57689</td>\n",
       "    </tr>\n",
       "    <tr>\n",
       "      <th>2</th>\n",
       "      <td>31555</td>\n",
       "      <td>Toulouse</td>\n",
       "      <td>34790</td>\n",
       "    </tr>\n",
       "    <tr>\n",
       "      <th>3</th>\n",
       "      <td>33063</td>\n",
       "      <td>Bordeaux</td>\n",
       "      <td>16098</td>\n",
       "    </tr>\n",
       "    <tr>\n",
       "      <th>4</th>\n",
       "      <td>34172</td>\n",
       "      <td>Montpellier</td>\n",
       "      <td>21877</td>\n",
       "    </tr>\n",
       "    <tr>\n",
       "      <th>5</th>\n",
       "      <td>35238</td>\n",
       "      <td>Rennes</td>\n",
       "      <td>15289</td>\n",
       "    </tr>\n",
       "    <tr>\n",
       "      <th>6</th>\n",
       "      <td>42218</td>\n",
       "      <td>Saint-Étienne</td>\n",
       "      <td>14110</td>\n",
       "    </tr>\n",
       "    <tr>\n",
       "      <th>7</th>\n",
       "      <td>44109</td>\n",
       "      <td>Nantes</td>\n",
       "      <td>20979</td>\n",
       "    </tr>\n",
       "    <tr>\n",
       "      <th>8</th>\n",
       "      <td>51454</td>\n",
       "      <td>Reims</td>\n",
       "      <td>13064</td>\n",
       "    </tr>\n",
       "    <tr>\n",
       "      <th>9</th>\n",
       "      <td>59350</td>\n",
       "      <td>Lille</td>\n",
       "      <td>13584</td>\n",
       "    </tr>\n",
       "    <tr>\n",
       "      <th>10</th>\n",
       "      <td>67482</td>\n",
       "      <td>Strasbourg</td>\n",
       "      <td>18775</td>\n",
       "    </tr>\n",
       "    <tr>\n",
       "      <th>11</th>\n",
       "      <td>69123</td>\n",
       "      <td>Lyon</td>\n",
       "      <td>26119</td>\n",
       "    </tr>\n",
       "    <tr>\n",
       "      <th>12</th>\n",
       "      <td>75056</td>\n",
       "      <td>Paris</td>\n",
       "      <td>69211</td>\n",
       "    </tr>\n",
       "    <tr>\n",
       "      <th>13</th>\n",
       "      <td>83137</td>\n",
       "      <td>Toulon</td>\n",
       "      <td>14287</td>\n",
       "    </tr>\n",
       "  </tbody>\n",
       "</table>\n",
       "</div>"
      ],
      "text/plain": [
       "   Code commune de résidence Commune de résidence  num_retrofit\n",
       "0                      06088                 Nice         23309\n",
       "1                      13055            Marseille         57689\n",
       "2                      31555             Toulouse         34790\n",
       "3                      33063             Bordeaux         16098\n",
       "4                      34172          Montpellier         21877\n",
       "5                      35238               Rennes         15289\n",
       "6                      42218        Saint-Étienne         14110\n",
       "7                      44109               Nantes         20979\n",
       "8                      51454                Reims         13064\n",
       "9                      59350                Lille         13584\n",
       "10                     67482           Strasbourg         18775\n",
       "11                     69123                 Lyon         26119\n",
       "12                     75056                Paris         69211\n",
       "13                     83137               Toulon         14287"
      ]
     },
     "execution_count": 116,
     "metadata": {},
     "output_type": "execute_result"
    }
   ],
   "source": [
    "parc_auto_pop_den = pd.merge(parc_auto, pop_den, left_on='Code commune de résidence', right_on='Code Commune', how='left')[['Code commune de résidence', 'Commune de résidence', 'lon', 'lat', 'Carburant', 'Crit\\'Air', '2022', 'Population Density']]\n",
    "parc_auto_pop_den[\"ratio\"] = parc_auto_pop_den.apply(lambda row: ratio_pop_den_critair(row['Population Density'], row['Crit\\'Air']), axis=1)\n",
    "parc_auto_pop_den['num_retrofit'] = parc_auto_pop_den.apply(calculate_num_retrofit, axis=1)\n",
    "parc_auto_pop_den = parc_auto_pop_den[parc_auto_pop_den['num_retrofit'] != 0]\n",
    "parc_auto_pop_den.rename({\"2022\":\"total\"}, axis=1, inplace=True)\n",
    "parc_retrofit_total = parc_auto_pop_den[[\"Code commune de résidence\", \"Commune de résidence\", \"num_retrofit\"]].groupby(by=[\"Code commune de résidence\", \"Commune de résidence\"]).sum().reset_index()\n",
    "parc_retrofit_total"
   ]
  },
  {
   "cell_type": "code",
   "execution_count": 117,
   "metadata": {},
   "outputs": [
    {
     "data": {
      "text/html": [
       "<div>\n",
       "<style scoped>\n",
       "    .dataframe tbody tr th:only-of-type {\n",
       "        vertical-align: middle;\n",
       "    }\n",
       "\n",
       "    .dataframe tbody tr th {\n",
       "        vertical-align: top;\n",
       "    }\n",
       "\n",
       "    .dataframe thead th {\n",
       "        text-align: right;\n",
       "    }\n",
       "</style>\n",
       "<table border=\"1\" class=\"dataframe\">\n",
       "  <thead>\n",
       "    <tr style=\"text-align: right;\">\n",
       "      <th></th>\n",
       "      <th>Year</th>\n",
       "      <th>Coefficient</th>\n",
       "    </tr>\n",
       "  </thead>\n",
       "  <tbody>\n",
       "    <tr>\n",
       "      <th>0</th>\n",
       "      <td>1</td>\n",
       "      <td>0.002101</td>\n",
       "    </tr>\n",
       "    <tr>\n",
       "      <th>1</th>\n",
       "      <td>2</td>\n",
       "      <td>0.004660</td>\n",
       "    </tr>\n",
       "    <tr>\n",
       "      <th>2</th>\n",
       "      <td>3</td>\n",
       "      <td>0.007774</td>\n",
       "    </tr>\n",
       "    <tr>\n",
       "      <th>3</th>\n",
       "      <td>4</td>\n",
       "      <td>0.011558</td>\n",
       "    </tr>\n",
       "    <tr>\n",
       "      <th>4</th>\n",
       "      <td>5</td>\n",
       "      <td>0.016149</td>\n",
       "    </tr>\n",
       "  </tbody>\n",
       "</table>\n",
       "</div>"
      ],
      "text/plain": [
       "   Year  Coefficient\n",
       "0     1     0.002101\n",
       "1     2     0.004660\n",
       "2     3     0.007774\n",
       "3     4     0.011558\n",
       "4     5     0.016149"
      ]
     },
     "execution_count": 117,
     "metadata": {},
     "output_type": "execute_result"
    }
   ],
   "source": [
    "planning_horizon_years = 5\n",
    "coeff_df = pd.DataFrame(columns=[\"Year\", \"Coefficient\"])\n",
    "coeff_df[\"Year\"] = range(1, planning_horizon_years+1)\n",
    "coeff_df[\"Coefficient\"]=coeff_df[\"Year\"].map(lambda x: bass_coeff(x))\n",
    "coeff_df"
   ]
  },
  {
   "cell_type": "code",
   "execution_count": 118,
   "metadata": {},
   "outputs": [
    {
     "data": {
      "text/html": [
       "<div>\n",
       "<style scoped>\n",
       "    .dataframe tbody tr th:only-of-type {\n",
       "        vertical-align: middle;\n",
       "    }\n",
       "\n",
       "    .dataframe tbody tr th {\n",
       "        vertical-align: top;\n",
       "    }\n",
       "\n",
       "    .dataframe thead th {\n",
       "        text-align: right;\n",
       "    }\n",
       "</style>\n",
       "<table border=\"1\" class=\"dataframe\">\n",
       "  <thead>\n",
       "    <tr style=\"text-align: right;\">\n",
       "      <th></th>\n",
       "      <th>Code commune de résidence</th>\n",
       "      <th>Commune de résidence</th>\n",
       "      <th>num_retrofit</th>\n",
       "      <th>Year</th>\n",
       "      <th>Coefficient</th>\n",
       "    </tr>\n",
       "  </thead>\n",
       "  <tbody>\n",
       "    <tr>\n",
       "      <th>0</th>\n",
       "      <td>06088</td>\n",
       "      <td>Nice</td>\n",
       "      <td>49.0</td>\n",
       "      <td>1</td>\n",
       "      <td>0.002101</td>\n",
       "    </tr>\n",
       "    <tr>\n",
       "      <th>1</th>\n",
       "      <td>06088</td>\n",
       "      <td>Nice</td>\n",
       "      <td>109.0</td>\n",
       "      <td>2</td>\n",
       "      <td>0.004660</td>\n",
       "    </tr>\n",
       "    <tr>\n",
       "      <th>2</th>\n",
       "      <td>06088</td>\n",
       "      <td>Nice</td>\n",
       "      <td>181.0</td>\n",
       "      <td>3</td>\n",
       "      <td>0.007774</td>\n",
       "    </tr>\n",
       "    <tr>\n",
       "      <th>3</th>\n",
       "      <td>06088</td>\n",
       "      <td>Nice</td>\n",
       "      <td>269.0</td>\n",
       "      <td>4</td>\n",
       "      <td>0.011558</td>\n",
       "    </tr>\n",
       "    <tr>\n",
       "      <th>4</th>\n",
       "      <td>06088</td>\n",
       "      <td>Nice</td>\n",
       "      <td>376.0</td>\n",
       "      <td>5</td>\n",
       "      <td>0.016149</td>\n",
       "    </tr>\n",
       "    <tr>\n",
       "      <th>...</th>\n",
       "      <td>...</td>\n",
       "      <td>...</td>\n",
       "      <td>...</td>\n",
       "      <td>...</td>\n",
       "      <td>...</td>\n",
       "    </tr>\n",
       "    <tr>\n",
       "      <th>65</th>\n",
       "      <td>83137</td>\n",
       "      <td>Toulon</td>\n",
       "      <td>30.0</td>\n",
       "      <td>1</td>\n",
       "      <td>0.002101</td>\n",
       "    </tr>\n",
       "    <tr>\n",
       "      <th>66</th>\n",
       "      <td>83137</td>\n",
       "      <td>Toulon</td>\n",
       "      <td>67.0</td>\n",
       "      <td>2</td>\n",
       "      <td>0.004660</td>\n",
       "    </tr>\n",
       "    <tr>\n",
       "      <th>67</th>\n",
       "      <td>83137</td>\n",
       "      <td>Toulon</td>\n",
       "      <td>111.0</td>\n",
       "      <td>3</td>\n",
       "      <td>0.007774</td>\n",
       "    </tr>\n",
       "    <tr>\n",
       "      <th>68</th>\n",
       "      <td>83137</td>\n",
       "      <td>Toulon</td>\n",
       "      <td>165.0</td>\n",
       "      <td>4</td>\n",
       "      <td>0.011558</td>\n",
       "    </tr>\n",
       "    <tr>\n",
       "      <th>69</th>\n",
       "      <td>83137</td>\n",
       "      <td>Toulon</td>\n",
       "      <td>231.0</td>\n",
       "      <td>5</td>\n",
       "      <td>0.016149</td>\n",
       "    </tr>\n",
       "  </tbody>\n",
       "</table>\n",
       "<p>70 rows × 5 columns</p>\n",
       "</div>"
      ],
      "text/plain": [
       "   Code commune de résidence Commune de résidence  num_retrofit  Year  \\\n",
       "0                      06088                 Nice          49.0     1   \n",
       "1                      06088                 Nice         109.0     2   \n",
       "2                      06088                 Nice         181.0     3   \n",
       "3                      06088                 Nice         269.0     4   \n",
       "4                      06088                 Nice         376.0     5   \n",
       "..                       ...                  ...           ...   ...   \n",
       "65                     83137               Toulon          30.0     1   \n",
       "66                     83137               Toulon          67.0     2   \n",
       "67                     83137               Toulon         111.0     3   \n",
       "68                     83137               Toulon         165.0     4   \n",
       "69                     83137               Toulon         231.0     5   \n",
       "\n",
       "    Coefficient  \n",
       "0      0.002101  \n",
       "1      0.004660  \n",
       "2      0.007774  \n",
       "3      0.011558  \n",
       "4      0.016149  \n",
       "..          ...  \n",
       "65     0.002101  \n",
       "66     0.004660  \n",
       "67     0.007774  \n",
       "68     0.011558  \n",
       "69     0.016149  \n",
       "\n",
       "[70 rows x 5 columns]"
      ]
     },
     "execution_count": 118,
     "metadata": {},
     "output_type": "execute_result"
    }
   ],
   "source": [
    "parc_retrofit_yearly = parc_retrofit_total.merge(coeff_df, how=\"cross\")\n",
    "parc_retrofit_yearly[\"num_retrofit\"] = round(parc_retrofit_yearly[\"num_retrofit\"] * parc_retrofit_yearly[\"Coefficient\"])\n",
    "parc_retrofit_yearly"
   ]
  },
  {
   "cell_type": "code",
   "execution_count": 119,
   "metadata": {},
   "outputs": [
    {
     "data": {
      "application/vnd.plotly.v1+json": {
       "config": {
        "plotlyServerURL": "https://plot.ly"
       },
       "data": [
        {
         "alignmentgroup": "True",
         "hovertemplate": "Commune de résidence=Nice<br>Year=%{x}<br>num_retrofit=%{y}<extra></extra>",
         "legendgroup": "Nice",
         "marker": {
          "color": "#636efa",
          "pattern": {
           "shape": ""
          }
         },
         "name": "Nice",
         "offsetgroup": "Nice",
         "orientation": "v",
         "showlegend": true,
         "textposition": "auto",
         "type": "bar",
         "x": [
          1,
          2,
          3,
          4,
          5
         ],
         "xaxis": "x",
         "y": [
          49,
          109,
          181,
          269,
          376
         ],
         "yaxis": "y"
        },
        {
         "alignmentgroup": "True",
         "hovertemplate": "Commune de résidence=Marseille<br>Year=%{x}<br>num_retrofit=%{y}<extra></extra>",
         "legendgroup": "Marseille",
         "marker": {
          "color": "#EF553B",
          "pattern": {
           "shape": ""
          }
         },
         "name": "Marseille",
         "offsetgroup": "Marseille",
         "orientation": "v",
         "showlegend": true,
         "textposition": "auto",
         "type": "bar",
         "x": [
          1,
          2,
          3,
          4,
          5
         ],
         "xaxis": "x",
         "y": [
          121,
          269,
          448,
          667,
          932
         ],
         "yaxis": "y"
        },
        {
         "alignmentgroup": "True",
         "hovertemplate": "Commune de résidence=Toulouse<br>Year=%{x}<br>num_retrofit=%{y}<extra></extra>",
         "legendgroup": "Toulouse",
         "marker": {
          "color": "#00cc96",
          "pattern": {
           "shape": ""
          }
         },
         "name": "Toulouse",
         "offsetgroup": "Toulouse",
         "orientation": "v",
         "showlegend": true,
         "textposition": "auto",
         "type": "bar",
         "x": [
          1,
          2,
          3,
          4,
          5
         ],
         "xaxis": "x",
         "y": [
          73,
          162,
          270,
          402,
          562
         ],
         "yaxis": "y"
        },
        {
         "alignmentgroup": "True",
         "hovertemplate": "Commune de résidence=Bordeaux<br>Year=%{x}<br>num_retrofit=%{y}<extra></extra>",
         "legendgroup": "Bordeaux",
         "marker": {
          "color": "#ab63fa",
          "pattern": {
           "shape": ""
          }
         },
         "name": "Bordeaux",
         "offsetgroup": "Bordeaux",
         "orientation": "v",
         "showlegend": true,
         "textposition": "auto",
         "type": "bar",
         "x": [
          1,
          2,
          3,
          4,
          5
         ],
         "xaxis": "x",
         "y": [
          34,
          75,
          125,
          186,
          260
         ],
         "yaxis": "y"
        },
        {
         "alignmentgroup": "True",
         "hovertemplate": "Commune de résidence=Montpellier<br>Year=%{x}<br>num_retrofit=%{y}<extra></extra>",
         "legendgroup": "Montpellier",
         "marker": {
          "color": "#FFA15A",
          "pattern": {
           "shape": ""
          }
         },
         "name": "Montpellier",
         "offsetgroup": "Montpellier",
         "orientation": "v",
         "showlegend": true,
         "textposition": "auto",
         "type": "bar",
         "x": [
          1,
          2,
          3,
          4,
          5
         ],
         "xaxis": "x",
         "y": [
          46,
          102,
          170,
          253,
          353
         ],
         "yaxis": "y"
        },
        {
         "alignmentgroup": "True",
         "hovertemplate": "Commune de résidence=Rennes<br>Year=%{x}<br>num_retrofit=%{y}<extra></extra>",
         "legendgroup": "Rennes",
         "marker": {
          "color": "#19d3f3",
          "pattern": {
           "shape": ""
          }
         },
         "name": "Rennes",
         "offsetgroup": "Rennes",
         "orientation": "v",
         "showlegend": true,
         "textposition": "auto",
         "type": "bar",
         "x": [
          1,
          2,
          3,
          4,
          5
         ],
         "xaxis": "x",
         "y": [
          32,
          71,
          119,
          177,
          247
         ],
         "yaxis": "y"
        },
        {
         "alignmentgroup": "True",
         "hovertemplate": "Commune de résidence=Saint-Étienne<br>Year=%{x}<br>num_retrofit=%{y}<extra></extra>",
         "legendgroup": "Saint-Étienne",
         "marker": {
          "color": "#FF6692",
          "pattern": {
           "shape": ""
          }
         },
         "name": "Saint-Étienne",
         "offsetgroup": "Saint-Étienne",
         "orientation": "v",
         "showlegend": true,
         "textposition": "auto",
         "type": "bar",
         "x": [
          1,
          2,
          3,
          4,
          5
         ],
         "xaxis": "x",
         "y": [
          30,
          66,
          110,
          163,
          228
         ],
         "yaxis": "y"
        },
        {
         "alignmentgroup": "True",
         "hovertemplate": "Commune de résidence=Nantes<br>Year=%{x}<br>num_retrofit=%{y}<extra></extra>",
         "legendgroup": "Nantes",
         "marker": {
          "color": "#B6E880",
          "pattern": {
           "shape": ""
          }
         },
         "name": "Nantes",
         "offsetgroup": "Nantes",
         "orientation": "v",
         "showlegend": true,
         "textposition": "auto",
         "type": "bar",
         "x": [
          1,
          2,
          3,
          4,
          5
         ],
         "xaxis": "x",
         "y": [
          44,
          98,
          163,
          242,
          339
         ],
         "yaxis": "y"
        },
        {
         "alignmentgroup": "True",
         "hovertemplate": "Commune de résidence=Reims<br>Year=%{x}<br>num_retrofit=%{y}<extra></extra>",
         "legendgroup": "Reims",
         "marker": {
          "color": "#FF97FF",
          "pattern": {
           "shape": ""
          }
         },
         "name": "Reims",
         "offsetgroup": "Reims",
         "orientation": "v",
         "showlegend": true,
         "textposition": "auto",
         "type": "bar",
         "x": [
          1,
          2,
          3,
          4,
          5
         ],
         "xaxis": "x",
         "y": [
          27,
          61,
          102,
          151,
          211
         ],
         "yaxis": "y"
        },
        {
         "alignmentgroup": "True",
         "hovertemplate": "Commune de résidence=Lille<br>Year=%{x}<br>num_retrofit=%{y}<extra></extra>",
         "legendgroup": "Lille",
         "marker": {
          "color": "#FECB52",
          "pattern": {
           "shape": ""
          }
         },
         "name": "Lille",
         "offsetgroup": "Lille",
         "orientation": "v",
         "showlegend": true,
         "textposition": "auto",
         "type": "bar",
         "x": [
          1,
          2,
          3,
          4,
          5
         ],
         "xaxis": "x",
         "y": [
          29,
          63,
          106,
          157,
          219
         ],
         "yaxis": "y"
        },
        {
         "alignmentgroup": "True",
         "hovertemplate": "Commune de résidence=Strasbourg<br>Year=%{x}<br>num_retrofit=%{y}<extra></extra>",
         "legendgroup": "Strasbourg",
         "marker": {
          "color": "#636efa",
          "pattern": {
           "shape": ""
          }
         },
         "name": "Strasbourg",
         "offsetgroup": "Strasbourg",
         "orientation": "v",
         "showlegend": true,
         "textposition": "auto",
         "type": "bar",
         "x": [
          1,
          2,
          3,
          4,
          5
         ],
         "xaxis": "x",
         "y": [
          39,
          87,
          146,
          217,
          303
         ],
         "yaxis": "y"
        },
        {
         "alignmentgroup": "True",
         "hovertemplate": "Commune de résidence=Lyon<br>Year=%{x}<br>num_retrofit=%{y}<extra></extra>",
         "legendgroup": "Lyon",
         "marker": {
          "color": "#EF553B",
          "pattern": {
           "shape": ""
          }
         },
         "name": "Lyon",
         "offsetgroup": "Lyon",
         "orientation": "v",
         "showlegend": true,
         "textposition": "auto",
         "type": "bar",
         "x": [
          1,
          2,
          3,
          4,
          5
         ],
         "xaxis": "x",
         "y": [
          55,
          122,
          203,
          302,
          422
         ],
         "yaxis": "y"
        },
        {
         "alignmentgroup": "True",
         "hovertemplate": "Commune de résidence=Paris<br>Year=%{x}<br>num_retrofit=%{y}<extra></extra>",
         "legendgroup": "Paris",
         "marker": {
          "color": "#00cc96",
          "pattern": {
           "shape": ""
          }
         },
         "name": "Paris",
         "offsetgroup": "Paris",
         "orientation": "v",
         "showlegend": true,
         "textposition": "auto",
         "type": "bar",
         "x": [
          1,
          2,
          3,
          4,
          5
         ],
         "xaxis": "x",
         "y": [
          145,
          323,
          538,
          800,
          1118
         ],
         "yaxis": "y"
        },
        {
         "alignmentgroup": "True",
         "hovertemplate": "Commune de résidence=Toulon<br>Year=%{x}<br>num_retrofit=%{y}<extra></extra>",
         "legendgroup": "Toulon",
         "marker": {
          "color": "#ab63fa",
          "pattern": {
           "shape": ""
          }
         },
         "name": "Toulon",
         "offsetgroup": "Toulon",
         "orientation": "v",
         "showlegend": true,
         "textposition": "auto",
         "type": "bar",
         "x": [
          1,
          2,
          3,
          4,
          5
         ],
         "xaxis": "x",
         "y": [
          30,
          67,
          111,
          165,
          231
         ],
         "yaxis": "y"
        }
       ],
       "layout": {
        "barmode": "stack",
        "legend": {
         "title": {
          "text": "Commune de résidence"
         },
         "tracegroupgap": 0
        },
        "margin": {
         "t": 60
        },
        "template": {
         "data": {
          "bar": [
           {
            "error_x": {
             "color": "#2a3f5f"
            },
            "error_y": {
             "color": "#2a3f5f"
            },
            "marker": {
             "line": {
              "color": "#E5ECF6",
              "width": 0.5
             },
             "pattern": {
              "fillmode": "overlay",
              "size": 10,
              "solidity": 0.2
             }
            },
            "type": "bar"
           }
          ],
          "barpolar": [
           {
            "marker": {
             "line": {
              "color": "#E5ECF6",
              "width": 0.5
             },
             "pattern": {
              "fillmode": "overlay",
              "size": 10,
              "solidity": 0.2
             }
            },
            "type": "barpolar"
           }
          ],
          "carpet": [
           {
            "aaxis": {
             "endlinecolor": "#2a3f5f",
             "gridcolor": "white",
             "linecolor": "white",
             "minorgridcolor": "white",
             "startlinecolor": "#2a3f5f"
            },
            "baxis": {
             "endlinecolor": "#2a3f5f",
             "gridcolor": "white",
             "linecolor": "white",
             "minorgridcolor": "white",
             "startlinecolor": "#2a3f5f"
            },
            "type": "carpet"
           }
          ],
          "choropleth": [
           {
            "colorbar": {
             "outlinewidth": 0,
             "ticks": ""
            },
            "type": "choropleth"
           }
          ],
          "contour": [
           {
            "colorbar": {
             "outlinewidth": 0,
             "ticks": ""
            },
            "colorscale": [
             [
              0,
              "#0d0887"
             ],
             [
              0.1111111111111111,
              "#46039f"
             ],
             [
              0.2222222222222222,
              "#7201a8"
             ],
             [
              0.3333333333333333,
              "#9c179e"
             ],
             [
              0.4444444444444444,
              "#bd3786"
             ],
             [
              0.5555555555555556,
              "#d8576b"
             ],
             [
              0.6666666666666666,
              "#ed7953"
             ],
             [
              0.7777777777777778,
              "#fb9f3a"
             ],
             [
              0.8888888888888888,
              "#fdca26"
             ],
             [
              1,
              "#f0f921"
             ]
            ],
            "type": "contour"
           }
          ],
          "contourcarpet": [
           {
            "colorbar": {
             "outlinewidth": 0,
             "ticks": ""
            },
            "type": "contourcarpet"
           }
          ],
          "heatmap": [
           {
            "colorbar": {
             "outlinewidth": 0,
             "ticks": ""
            },
            "colorscale": [
             [
              0,
              "#0d0887"
             ],
             [
              0.1111111111111111,
              "#46039f"
             ],
             [
              0.2222222222222222,
              "#7201a8"
             ],
             [
              0.3333333333333333,
              "#9c179e"
             ],
             [
              0.4444444444444444,
              "#bd3786"
             ],
             [
              0.5555555555555556,
              "#d8576b"
             ],
             [
              0.6666666666666666,
              "#ed7953"
             ],
             [
              0.7777777777777778,
              "#fb9f3a"
             ],
             [
              0.8888888888888888,
              "#fdca26"
             ],
             [
              1,
              "#f0f921"
             ]
            ],
            "type": "heatmap"
           }
          ],
          "heatmapgl": [
           {
            "colorbar": {
             "outlinewidth": 0,
             "ticks": ""
            },
            "colorscale": [
             [
              0,
              "#0d0887"
             ],
             [
              0.1111111111111111,
              "#46039f"
             ],
             [
              0.2222222222222222,
              "#7201a8"
             ],
             [
              0.3333333333333333,
              "#9c179e"
             ],
             [
              0.4444444444444444,
              "#bd3786"
             ],
             [
              0.5555555555555556,
              "#d8576b"
             ],
             [
              0.6666666666666666,
              "#ed7953"
             ],
             [
              0.7777777777777778,
              "#fb9f3a"
             ],
             [
              0.8888888888888888,
              "#fdca26"
             ],
             [
              1,
              "#f0f921"
             ]
            ],
            "type": "heatmapgl"
           }
          ],
          "histogram": [
           {
            "marker": {
             "pattern": {
              "fillmode": "overlay",
              "size": 10,
              "solidity": 0.2
             }
            },
            "type": "histogram"
           }
          ],
          "histogram2d": [
           {
            "colorbar": {
             "outlinewidth": 0,
             "ticks": ""
            },
            "colorscale": [
             [
              0,
              "#0d0887"
             ],
             [
              0.1111111111111111,
              "#46039f"
             ],
             [
              0.2222222222222222,
              "#7201a8"
             ],
             [
              0.3333333333333333,
              "#9c179e"
             ],
             [
              0.4444444444444444,
              "#bd3786"
             ],
             [
              0.5555555555555556,
              "#d8576b"
             ],
             [
              0.6666666666666666,
              "#ed7953"
             ],
             [
              0.7777777777777778,
              "#fb9f3a"
             ],
             [
              0.8888888888888888,
              "#fdca26"
             ],
             [
              1,
              "#f0f921"
             ]
            ],
            "type": "histogram2d"
           }
          ],
          "histogram2dcontour": [
           {
            "colorbar": {
             "outlinewidth": 0,
             "ticks": ""
            },
            "colorscale": [
             [
              0,
              "#0d0887"
             ],
             [
              0.1111111111111111,
              "#46039f"
             ],
             [
              0.2222222222222222,
              "#7201a8"
             ],
             [
              0.3333333333333333,
              "#9c179e"
             ],
             [
              0.4444444444444444,
              "#bd3786"
             ],
             [
              0.5555555555555556,
              "#d8576b"
             ],
             [
              0.6666666666666666,
              "#ed7953"
             ],
             [
              0.7777777777777778,
              "#fb9f3a"
             ],
             [
              0.8888888888888888,
              "#fdca26"
             ],
             [
              1,
              "#f0f921"
             ]
            ],
            "type": "histogram2dcontour"
           }
          ],
          "mesh3d": [
           {
            "colorbar": {
             "outlinewidth": 0,
             "ticks": ""
            },
            "type": "mesh3d"
           }
          ],
          "parcoords": [
           {
            "line": {
             "colorbar": {
              "outlinewidth": 0,
              "ticks": ""
             }
            },
            "type": "parcoords"
           }
          ],
          "pie": [
           {
            "automargin": true,
            "type": "pie"
           }
          ],
          "scatter": [
           {
            "fillpattern": {
             "fillmode": "overlay",
             "size": 10,
             "solidity": 0.2
            },
            "type": "scatter"
           }
          ],
          "scatter3d": [
           {
            "line": {
             "colorbar": {
              "outlinewidth": 0,
              "ticks": ""
             }
            },
            "marker": {
             "colorbar": {
              "outlinewidth": 0,
              "ticks": ""
             }
            },
            "type": "scatter3d"
           }
          ],
          "scattercarpet": [
           {
            "marker": {
             "colorbar": {
              "outlinewidth": 0,
              "ticks": ""
             }
            },
            "type": "scattercarpet"
           }
          ],
          "scattergeo": [
           {
            "marker": {
             "colorbar": {
              "outlinewidth": 0,
              "ticks": ""
             }
            },
            "type": "scattergeo"
           }
          ],
          "scattergl": [
           {
            "marker": {
             "colorbar": {
              "outlinewidth": 0,
              "ticks": ""
             }
            },
            "type": "scattergl"
           }
          ],
          "scattermapbox": [
           {
            "marker": {
             "colorbar": {
              "outlinewidth": 0,
              "ticks": ""
             }
            },
            "type": "scattermapbox"
           }
          ],
          "scatterpolar": [
           {
            "marker": {
             "colorbar": {
              "outlinewidth": 0,
              "ticks": ""
             }
            },
            "type": "scatterpolar"
           }
          ],
          "scatterpolargl": [
           {
            "marker": {
             "colorbar": {
              "outlinewidth": 0,
              "ticks": ""
             }
            },
            "type": "scatterpolargl"
           }
          ],
          "scatterternary": [
           {
            "marker": {
             "colorbar": {
              "outlinewidth": 0,
              "ticks": ""
             }
            },
            "type": "scatterternary"
           }
          ],
          "surface": [
           {
            "colorbar": {
             "outlinewidth": 0,
             "ticks": ""
            },
            "colorscale": [
             [
              0,
              "#0d0887"
             ],
             [
              0.1111111111111111,
              "#46039f"
             ],
             [
              0.2222222222222222,
              "#7201a8"
             ],
             [
              0.3333333333333333,
              "#9c179e"
             ],
             [
              0.4444444444444444,
              "#bd3786"
             ],
             [
              0.5555555555555556,
              "#d8576b"
             ],
             [
              0.6666666666666666,
              "#ed7953"
             ],
             [
              0.7777777777777778,
              "#fb9f3a"
             ],
             [
              0.8888888888888888,
              "#fdca26"
             ],
             [
              1,
              "#f0f921"
             ]
            ],
            "type": "surface"
           }
          ],
          "table": [
           {
            "cells": {
             "fill": {
              "color": "#EBF0F8"
             },
             "line": {
              "color": "white"
             }
            },
            "header": {
             "fill": {
              "color": "#C8D4E3"
             },
             "line": {
              "color": "white"
             }
            },
            "type": "table"
           }
          ]
         },
         "layout": {
          "annotationdefaults": {
           "arrowcolor": "#2a3f5f",
           "arrowhead": 0,
           "arrowwidth": 1
          },
          "autotypenumbers": "strict",
          "coloraxis": {
           "colorbar": {
            "outlinewidth": 0,
            "ticks": ""
           }
          },
          "colorscale": {
           "diverging": [
            [
             0,
             "#8e0152"
            ],
            [
             0.1,
             "#c51b7d"
            ],
            [
             0.2,
             "#de77ae"
            ],
            [
             0.3,
             "#f1b6da"
            ],
            [
             0.4,
             "#fde0ef"
            ],
            [
             0.5,
             "#f7f7f7"
            ],
            [
             0.6,
             "#e6f5d0"
            ],
            [
             0.7,
             "#b8e186"
            ],
            [
             0.8,
             "#7fbc41"
            ],
            [
             0.9,
             "#4d9221"
            ],
            [
             1,
             "#276419"
            ]
           ],
           "sequential": [
            [
             0,
             "#0d0887"
            ],
            [
             0.1111111111111111,
             "#46039f"
            ],
            [
             0.2222222222222222,
             "#7201a8"
            ],
            [
             0.3333333333333333,
             "#9c179e"
            ],
            [
             0.4444444444444444,
             "#bd3786"
            ],
            [
             0.5555555555555556,
             "#d8576b"
            ],
            [
             0.6666666666666666,
             "#ed7953"
            ],
            [
             0.7777777777777778,
             "#fb9f3a"
            ],
            [
             0.8888888888888888,
             "#fdca26"
            ],
            [
             1,
             "#f0f921"
            ]
           ],
           "sequentialminus": [
            [
             0,
             "#0d0887"
            ],
            [
             0.1111111111111111,
             "#46039f"
            ],
            [
             0.2222222222222222,
             "#7201a8"
            ],
            [
             0.3333333333333333,
             "#9c179e"
            ],
            [
             0.4444444444444444,
             "#bd3786"
            ],
            [
             0.5555555555555556,
             "#d8576b"
            ],
            [
             0.6666666666666666,
             "#ed7953"
            ],
            [
             0.7777777777777778,
             "#fb9f3a"
            ],
            [
             0.8888888888888888,
             "#fdca26"
            ],
            [
             1,
             "#f0f921"
            ]
           ]
          },
          "colorway": [
           "#636efa",
           "#EF553B",
           "#00cc96",
           "#ab63fa",
           "#FFA15A",
           "#19d3f3",
           "#FF6692",
           "#B6E880",
           "#FF97FF",
           "#FECB52"
          ],
          "font": {
           "color": "#2a3f5f"
          },
          "geo": {
           "bgcolor": "white",
           "lakecolor": "white",
           "landcolor": "#E5ECF6",
           "showlakes": true,
           "showland": true,
           "subunitcolor": "white"
          },
          "hoverlabel": {
           "align": "left"
          },
          "hovermode": "closest",
          "mapbox": {
           "style": "light"
          },
          "paper_bgcolor": "white",
          "plot_bgcolor": "#E5ECF6",
          "polar": {
           "angularaxis": {
            "gridcolor": "white",
            "linecolor": "white",
            "ticks": ""
           },
           "bgcolor": "#E5ECF6",
           "radialaxis": {
            "gridcolor": "white",
            "linecolor": "white",
            "ticks": ""
           }
          },
          "scene": {
           "xaxis": {
            "backgroundcolor": "#E5ECF6",
            "gridcolor": "white",
            "gridwidth": 2,
            "linecolor": "white",
            "showbackground": true,
            "ticks": "",
            "zerolinecolor": "white"
           },
           "yaxis": {
            "backgroundcolor": "#E5ECF6",
            "gridcolor": "white",
            "gridwidth": 2,
            "linecolor": "white",
            "showbackground": true,
            "ticks": "",
            "zerolinecolor": "white"
           },
           "zaxis": {
            "backgroundcolor": "#E5ECF6",
            "gridcolor": "white",
            "gridwidth": 2,
            "linecolor": "white",
            "showbackground": true,
            "ticks": "",
            "zerolinecolor": "white"
           }
          },
          "shapedefaults": {
           "line": {
            "color": "#2a3f5f"
           }
          },
          "ternary": {
           "aaxis": {
            "gridcolor": "white",
            "linecolor": "white",
            "ticks": ""
           },
           "baxis": {
            "gridcolor": "white",
            "linecolor": "white",
            "ticks": ""
           },
           "bgcolor": "#E5ECF6",
           "caxis": {
            "gridcolor": "white",
            "linecolor": "white",
            "ticks": ""
           }
          },
          "title": {
           "x": 0.05
          },
          "xaxis": {
           "automargin": true,
           "gridcolor": "white",
           "linecolor": "white",
           "ticks": "",
           "title": {
            "standoff": 15
           },
           "zerolinecolor": "white",
           "zerolinewidth": 2
          },
          "yaxis": {
           "automargin": true,
           "gridcolor": "white",
           "linecolor": "white",
           "ticks": "",
           "title": {
            "standoff": 15
           },
           "zerolinecolor": "white",
           "zerolinewidth": 2
          }
         }
        },
        "xaxis": {
         "anchor": "y",
         "domain": [
          0,
          1
         ],
         "title": {
          "text": "Year"
         }
        },
        "yaxis": {
         "anchor": "x",
         "domain": [
          0,
          1
         ],
         "title": {
          "text": "num_retrofit"
         }
        }
       }
      }
     },
     "metadata": {},
     "output_type": "display_data"
    }
   ],
   "source": [
    "fig = px.bar(parc_retrofit_yearly, x=\"Year\", y=\"num_retrofit\", color=\"Commune de résidence\", barmode='stack')\n",
    "fig.show()"
   ]
  },
  {
   "cell_type": "code",
   "execution_count": 120,
   "metadata": {},
   "outputs": [
    {
     "data": {
      "text/plain": [
       "Code commune de résidence    0608806088060880608806088130551305513055130551...\n",
       "Commune de résidence         NiceNiceNiceNiceNiceMarseilleMarseilleMarseill...\n",
       "num_retrofit                                                           15173.0\n",
       "Year                                                                       210\n",
       "Coefficient                                                           0.591382\n",
       "dtype: object"
      ]
     },
     "execution_count": 120,
     "metadata": {},
     "output_type": "execute_result"
    }
   ],
   "source": [
    "parc_retrofit_yearly.sum()"
   ]
  },
  {
   "cell_type": "code",
   "execution_count": 121,
   "metadata": {},
   "outputs": [
    {
     "data": {
      "application/vnd.plotly.v1+json": {
       "config": {
        "plotlyServerURL": "https://plot.ly"
       },
       "data": [
        {
         "hovertemplate": "<b>%{hovertext}</b><br><br>num_retrofit=%{marker.size}<br>Latitude=%{lat}<br>Longitude=%{lon}<extra></extra>",
         "hovertext": [
          "06088",
          "13055",
          "31555",
          "33063",
          "34172",
          "35238",
          "42218",
          "44109",
          "51454",
          "59350",
          "67482",
          "69123",
          "75056",
          "83137"
         ],
         "lat": [
          43.696,
          43.2966,
          43.6046,
          44.8379,
          43.5985,
          48.1116,
          45.4402,
          47.2184,
          49.2582,
          50.6305,
          48.5733,
          45.7676,
          48.8564,
          43.1204
         ],
         "legendgroup": "",
         "lon": [
          7.2715,
          5.3699,
          1.4442,
          -0.5794,
          3.8968,
          -1.6801,
          4.3873,
          -1.5543,
          4.0315,
          3.0713,
          7.752,
          4.835,
          2.3525,
          5.9325
         ],
         "marker": {
          "color": "#636efa",
          "size": [
           49,
           121,
           73,
           34,
           46,
           32,
           30,
           44,
           27,
           29,
           39,
           55,
           145,
           30
          ],
          "sizemode": "area",
          "sizeref": 0.3625
         },
         "mode": "markers",
         "name": "",
         "showlegend": false,
         "subplot": "mapbox",
         "type": "scattermapbox"
        }
       ],
       "layout": {
        "height": 500,
        "legend": {
         "itemsizing": "constant",
         "tracegroupgap": 0
        },
        "mapbox": {
         "accesstoken": "pk.eyJ1Ijoiend1LTE5IiwiYSI6ImNsNnc3a3Z3czA1dHUzY28xZjd6dzlvZDgifQ.BiY-VgoH8CR03_PckJLbpA",
         "center": {
          "lat": 46.14358571428572,
          "lon": 3.3236214285714287
         },
         "domain": {
          "x": [
           0,
           1
          ],
          "y": [
           0,
           1
          ]
         },
         "style": "open-street-map",
         "zoom": 3
        },
        "margin": {
         "t": 60
        },
        "template": {
         "data": {
          "bar": [
           {
            "error_x": {
             "color": "#2a3f5f"
            },
            "error_y": {
             "color": "#2a3f5f"
            },
            "marker": {
             "line": {
              "color": "#E5ECF6",
              "width": 0.5
             },
             "pattern": {
              "fillmode": "overlay",
              "size": 10,
              "solidity": 0.2
             }
            },
            "type": "bar"
           }
          ],
          "barpolar": [
           {
            "marker": {
             "line": {
              "color": "#E5ECF6",
              "width": 0.5
             },
             "pattern": {
              "fillmode": "overlay",
              "size": 10,
              "solidity": 0.2
             }
            },
            "type": "barpolar"
           }
          ],
          "carpet": [
           {
            "aaxis": {
             "endlinecolor": "#2a3f5f",
             "gridcolor": "white",
             "linecolor": "white",
             "minorgridcolor": "white",
             "startlinecolor": "#2a3f5f"
            },
            "baxis": {
             "endlinecolor": "#2a3f5f",
             "gridcolor": "white",
             "linecolor": "white",
             "minorgridcolor": "white",
             "startlinecolor": "#2a3f5f"
            },
            "type": "carpet"
           }
          ],
          "choropleth": [
           {
            "colorbar": {
             "outlinewidth": 0,
             "ticks": ""
            },
            "type": "choropleth"
           }
          ],
          "contour": [
           {
            "colorbar": {
             "outlinewidth": 0,
             "ticks": ""
            },
            "colorscale": [
             [
              0,
              "#0d0887"
             ],
             [
              0.1111111111111111,
              "#46039f"
             ],
             [
              0.2222222222222222,
              "#7201a8"
             ],
             [
              0.3333333333333333,
              "#9c179e"
             ],
             [
              0.4444444444444444,
              "#bd3786"
             ],
             [
              0.5555555555555556,
              "#d8576b"
             ],
             [
              0.6666666666666666,
              "#ed7953"
             ],
             [
              0.7777777777777778,
              "#fb9f3a"
             ],
             [
              0.8888888888888888,
              "#fdca26"
             ],
             [
              1,
              "#f0f921"
             ]
            ],
            "type": "contour"
           }
          ],
          "contourcarpet": [
           {
            "colorbar": {
             "outlinewidth": 0,
             "ticks": ""
            },
            "type": "contourcarpet"
           }
          ],
          "heatmap": [
           {
            "colorbar": {
             "outlinewidth": 0,
             "ticks": ""
            },
            "colorscale": [
             [
              0,
              "#0d0887"
             ],
             [
              0.1111111111111111,
              "#46039f"
             ],
             [
              0.2222222222222222,
              "#7201a8"
             ],
             [
              0.3333333333333333,
              "#9c179e"
             ],
             [
              0.4444444444444444,
              "#bd3786"
             ],
             [
              0.5555555555555556,
              "#d8576b"
             ],
             [
              0.6666666666666666,
              "#ed7953"
             ],
             [
              0.7777777777777778,
              "#fb9f3a"
             ],
             [
              0.8888888888888888,
              "#fdca26"
             ],
             [
              1,
              "#f0f921"
             ]
            ],
            "type": "heatmap"
           }
          ],
          "heatmapgl": [
           {
            "colorbar": {
             "outlinewidth": 0,
             "ticks": ""
            },
            "colorscale": [
             [
              0,
              "#0d0887"
             ],
             [
              0.1111111111111111,
              "#46039f"
             ],
             [
              0.2222222222222222,
              "#7201a8"
             ],
             [
              0.3333333333333333,
              "#9c179e"
             ],
             [
              0.4444444444444444,
              "#bd3786"
             ],
             [
              0.5555555555555556,
              "#d8576b"
             ],
             [
              0.6666666666666666,
              "#ed7953"
             ],
             [
              0.7777777777777778,
              "#fb9f3a"
             ],
             [
              0.8888888888888888,
              "#fdca26"
             ],
             [
              1,
              "#f0f921"
             ]
            ],
            "type": "heatmapgl"
           }
          ],
          "histogram": [
           {
            "marker": {
             "pattern": {
              "fillmode": "overlay",
              "size": 10,
              "solidity": 0.2
             }
            },
            "type": "histogram"
           }
          ],
          "histogram2d": [
           {
            "colorbar": {
             "outlinewidth": 0,
             "ticks": ""
            },
            "colorscale": [
             [
              0,
              "#0d0887"
             ],
             [
              0.1111111111111111,
              "#46039f"
             ],
             [
              0.2222222222222222,
              "#7201a8"
             ],
             [
              0.3333333333333333,
              "#9c179e"
             ],
             [
              0.4444444444444444,
              "#bd3786"
             ],
             [
              0.5555555555555556,
              "#d8576b"
             ],
             [
              0.6666666666666666,
              "#ed7953"
             ],
             [
              0.7777777777777778,
              "#fb9f3a"
             ],
             [
              0.8888888888888888,
              "#fdca26"
             ],
             [
              1,
              "#f0f921"
             ]
            ],
            "type": "histogram2d"
           }
          ],
          "histogram2dcontour": [
           {
            "colorbar": {
             "outlinewidth": 0,
             "ticks": ""
            },
            "colorscale": [
             [
              0,
              "#0d0887"
             ],
             [
              0.1111111111111111,
              "#46039f"
             ],
             [
              0.2222222222222222,
              "#7201a8"
             ],
             [
              0.3333333333333333,
              "#9c179e"
             ],
             [
              0.4444444444444444,
              "#bd3786"
             ],
             [
              0.5555555555555556,
              "#d8576b"
             ],
             [
              0.6666666666666666,
              "#ed7953"
             ],
             [
              0.7777777777777778,
              "#fb9f3a"
             ],
             [
              0.8888888888888888,
              "#fdca26"
             ],
             [
              1,
              "#f0f921"
             ]
            ],
            "type": "histogram2dcontour"
           }
          ],
          "mesh3d": [
           {
            "colorbar": {
             "outlinewidth": 0,
             "ticks": ""
            },
            "type": "mesh3d"
           }
          ],
          "parcoords": [
           {
            "line": {
             "colorbar": {
              "outlinewidth": 0,
              "ticks": ""
             }
            },
            "type": "parcoords"
           }
          ],
          "pie": [
           {
            "automargin": true,
            "type": "pie"
           }
          ],
          "scatter": [
           {
            "fillpattern": {
             "fillmode": "overlay",
             "size": 10,
             "solidity": 0.2
            },
            "type": "scatter"
           }
          ],
          "scatter3d": [
           {
            "line": {
             "colorbar": {
              "outlinewidth": 0,
              "ticks": ""
             }
            },
            "marker": {
             "colorbar": {
              "outlinewidth": 0,
              "ticks": ""
             }
            },
            "type": "scatter3d"
           }
          ],
          "scattercarpet": [
           {
            "marker": {
             "colorbar": {
              "outlinewidth": 0,
              "ticks": ""
             }
            },
            "type": "scattercarpet"
           }
          ],
          "scattergeo": [
           {
            "marker": {
             "colorbar": {
              "outlinewidth": 0,
              "ticks": ""
             }
            },
            "type": "scattergeo"
           }
          ],
          "scattergl": [
           {
            "marker": {
             "colorbar": {
              "outlinewidth": 0,
              "ticks": ""
             }
            },
            "type": "scattergl"
           }
          ],
          "scattermapbox": [
           {
            "marker": {
             "colorbar": {
              "outlinewidth": 0,
              "ticks": ""
             }
            },
            "type": "scattermapbox"
           }
          ],
          "scatterpolar": [
           {
            "marker": {
             "colorbar": {
              "outlinewidth": 0,
              "ticks": ""
             }
            },
            "type": "scatterpolar"
           }
          ],
          "scatterpolargl": [
           {
            "marker": {
             "colorbar": {
              "outlinewidth": 0,
              "ticks": ""
             }
            },
            "type": "scatterpolargl"
           }
          ],
          "scatterternary": [
           {
            "marker": {
             "colorbar": {
              "outlinewidth": 0,
              "ticks": ""
             }
            },
            "type": "scatterternary"
           }
          ],
          "surface": [
           {
            "colorbar": {
             "outlinewidth": 0,
             "ticks": ""
            },
            "colorscale": [
             [
              0,
              "#0d0887"
             ],
             [
              0.1111111111111111,
              "#46039f"
             ],
             [
              0.2222222222222222,
              "#7201a8"
             ],
             [
              0.3333333333333333,
              "#9c179e"
             ],
             [
              0.4444444444444444,
              "#bd3786"
             ],
             [
              0.5555555555555556,
              "#d8576b"
             ],
             [
              0.6666666666666666,
              "#ed7953"
             ],
             [
              0.7777777777777778,
              "#fb9f3a"
             ],
             [
              0.8888888888888888,
              "#fdca26"
             ],
             [
              1,
              "#f0f921"
             ]
            ],
            "type": "surface"
           }
          ],
          "table": [
           {
            "cells": {
             "fill": {
              "color": "#EBF0F8"
             },
             "line": {
              "color": "white"
             }
            },
            "header": {
             "fill": {
              "color": "#C8D4E3"
             },
             "line": {
              "color": "white"
             }
            },
            "type": "table"
           }
          ]
         },
         "layout": {
          "annotationdefaults": {
           "arrowcolor": "#2a3f5f",
           "arrowhead": 0,
           "arrowwidth": 1
          },
          "autotypenumbers": "strict",
          "coloraxis": {
           "colorbar": {
            "outlinewidth": 0,
            "ticks": ""
           }
          },
          "colorscale": {
           "diverging": [
            [
             0,
             "#8e0152"
            ],
            [
             0.1,
             "#c51b7d"
            ],
            [
             0.2,
             "#de77ae"
            ],
            [
             0.3,
             "#f1b6da"
            ],
            [
             0.4,
             "#fde0ef"
            ],
            [
             0.5,
             "#f7f7f7"
            ],
            [
             0.6,
             "#e6f5d0"
            ],
            [
             0.7,
             "#b8e186"
            ],
            [
             0.8,
             "#7fbc41"
            ],
            [
             0.9,
             "#4d9221"
            ],
            [
             1,
             "#276419"
            ]
           ],
           "sequential": [
            [
             0,
             "#0d0887"
            ],
            [
             0.1111111111111111,
             "#46039f"
            ],
            [
             0.2222222222222222,
             "#7201a8"
            ],
            [
             0.3333333333333333,
             "#9c179e"
            ],
            [
             0.4444444444444444,
             "#bd3786"
            ],
            [
             0.5555555555555556,
             "#d8576b"
            ],
            [
             0.6666666666666666,
             "#ed7953"
            ],
            [
             0.7777777777777778,
             "#fb9f3a"
            ],
            [
             0.8888888888888888,
             "#fdca26"
            ],
            [
             1,
             "#f0f921"
            ]
           ],
           "sequentialminus": [
            [
             0,
             "#0d0887"
            ],
            [
             0.1111111111111111,
             "#46039f"
            ],
            [
             0.2222222222222222,
             "#7201a8"
            ],
            [
             0.3333333333333333,
             "#9c179e"
            ],
            [
             0.4444444444444444,
             "#bd3786"
            ],
            [
             0.5555555555555556,
             "#d8576b"
            ],
            [
             0.6666666666666666,
             "#ed7953"
            ],
            [
             0.7777777777777778,
             "#fb9f3a"
            ],
            [
             0.8888888888888888,
             "#fdca26"
            ],
            [
             1,
             "#f0f921"
            ]
           ]
          },
          "colorway": [
           "#636efa",
           "#EF553B",
           "#00cc96",
           "#ab63fa",
           "#FFA15A",
           "#19d3f3",
           "#FF6692",
           "#B6E880",
           "#FF97FF",
           "#FECB52"
          ],
          "font": {
           "color": "#2a3f5f"
          },
          "geo": {
           "bgcolor": "white",
           "lakecolor": "white",
           "landcolor": "#E5ECF6",
           "showlakes": true,
           "showland": true,
           "subunitcolor": "white"
          },
          "hoverlabel": {
           "align": "left"
          },
          "hovermode": "closest",
          "mapbox": {
           "style": "light"
          },
          "paper_bgcolor": "white",
          "plot_bgcolor": "#E5ECF6",
          "polar": {
           "angularaxis": {
            "gridcolor": "white",
            "linecolor": "white",
            "ticks": ""
           },
           "bgcolor": "#E5ECF6",
           "radialaxis": {
            "gridcolor": "white",
            "linecolor": "white",
            "ticks": ""
           }
          },
          "scene": {
           "xaxis": {
            "backgroundcolor": "#E5ECF6",
            "gridcolor": "white",
            "gridwidth": 2,
            "linecolor": "white",
            "showbackground": true,
            "ticks": "",
            "zerolinecolor": "white"
           },
           "yaxis": {
            "backgroundcolor": "#E5ECF6",
            "gridcolor": "white",
            "gridwidth": 2,
            "linecolor": "white",
            "showbackground": true,
            "ticks": "",
            "zerolinecolor": "white"
           },
           "zaxis": {
            "backgroundcolor": "#E5ECF6",
            "gridcolor": "white",
            "gridwidth": 2,
            "linecolor": "white",
            "showbackground": true,
            "ticks": "",
            "zerolinecolor": "white"
           }
          },
          "shapedefaults": {
           "line": {
            "color": "#2a3f5f"
           }
          },
          "ternary": {
           "aaxis": {
            "gridcolor": "white",
            "linecolor": "white",
            "ticks": ""
           },
           "baxis": {
            "gridcolor": "white",
            "linecolor": "white",
            "ticks": ""
           },
           "bgcolor": "#E5ECF6",
           "caxis": {
            "gridcolor": "white",
            "linecolor": "white",
            "ticks": ""
           }
          },
          "title": {
           "x": 0.05
          },
          "xaxis": {
           "automargin": true,
           "gridcolor": "white",
           "linecolor": "white",
           "ticks": "",
           "title": {
            "standoff": 15
           },
           "zerolinecolor": "white",
           "zerolinewidth": 2
          },
          "yaxis": {
           "automargin": true,
           "gridcolor": "white",
           "linecolor": "white",
           "ticks": "",
           "title": {
            "standoff": 15
           },
           "zerolinecolor": "white",
           "zerolinewidth": 2
          }
         }
        },
        "width": 500
       }
      }
     },
     "metadata": {},
     "output_type": "display_data"
    }
   ],
   "source": [
    "year = 1\n",
    "df_show=parc_retrofit_yearly[parc_retrofit_yearly[\"Year\"]==year]\n",
    "df_show = pd.merge(df, df_show, left_on=\"Code Commune\", right_on=\"Code commune de résidence\", how=\"right\")\n",
    "fig = px.scatter_mapbox(df_show, lat='Latitude', lon='Longitude', hover_name='Code Commune', size=\"num_retrofit\",\n",
    "                        zoom=3, height=500, width=500, mapbox_style=\"open-street-map\")\n",
    "\n",
    "# Show the figure\n",
    "fig.show()"
   ]
  },
  {
   "cell_type": "markdown",
   "metadata": {},
   "source": [
    "# Section 1 Create test dataset"
   ]
  },
  {
   "cell_type": "code",
   "execution_count": 2,
   "metadata": {},
   "outputs": [],
   "source": [
    "P=[\"p1\",\"p2\"]\n",
    "M={\"Paris\":[48.8012, 2.1303], \"Lyon\":[45.7676, 4.8350], \"Toulouse\":[43.6043, 1.4437]}\n",
    "R={\"Paris\":[48.8012, 2.1F303], \"Lyon\":[45.7676, 4.8350], \"Toulouse\":[43.6043, 1.4437], \"Clermont-Ferrand\":[45.7831, 3.0822], \"Orleans\":[47.9025, 1.9089]}\n",
    "L={\"Paris\":[48.8012, 2.1303],\"Clermont-Ferrand\":[45.7831, 3.0822]}\n",
    "F={\"Clermont-Ferrand\":[45.7831, 3.0822], \"Orleans\":[47.9025, 1.9089]}\n",
    "V={\"Clermont-Ferrand\":[45.7831, 3.0822], \"Orleans\":[47.9025, 1.9089]}\n",
    "\n",
    "wru = 300\n",
    "wrpd = 1300\n",
    "weolpd = 1300\n",
    "wrtp = 220\n",
    "wrp = 180\n",
    "tc = 0.05\n",
    "\n",
    "def haversine(lat1, lon1, lat2, lon2):\n",
    "    R = 6371\n",
    "    dlat = math.radians(lat2 - lat1)\n",
    "    dlon = math.radians(lon2 - lon1)\n",
    "    a = math.sin(dlat/2) * math.sin(dlat/2) + math.cos(math.radians(lat1)) * math.cos(math.radians(lat2)) * math.sin(dlon/2) * math.sin(dlon/2)\n",
    "    c = 2 * math.atan2(math.sqrt(a), math.sqrt(1-a))\n",
    "    d = R * c\n",
    "    return d\n",
    "\n",
    "distance_matrix = pd.DataFrame(index=R.keys(), columns=R.keys())\n",
    "for i in R.keys():\n",
    "    for j in R.keys():\n",
    "        distance_matrix.loc[i, j] = haversine(R[i][0], R[i][1], R[j][0], R[j][1])\n",
    "\n",
    "installation_cost = pd.DataFrame(columns=[\"Type\", \"Location\", \"Installation Cost\"])\n",
    "installation_cost[\"Type\"] = [\"Factory\" for f in F] + [\"Logistics Node\" for l in L] + [\"Retrofit Center\" for r in R] + [\"Recovery Center\" for v in V]\n",
    "installation_cost[\"Location\"] = [f for f in F.keys()]+ [l for l in L.keys()] + [r for r in R.keys()] + [v for v in V.keys()]\n",
    "\n",
    "location_multipliers = {\n",
    "    'Paris': 2,\n",
    "    'Lyon': 1.6,\n",
    "    'Toulouse': 1.5,\n",
    "    'Orleans': 1.3,\n",
    "    'Clermont-Ferrand': 1.0\n",
    "}\n",
    "\n",
    "type_multipliers = {\n",
    "    'Factory': 3,\n",
    "    'Logistics Node': 1.5,\n",
    "    'Retrofit Center': 2.5,\n",
    "    'Recovery Center': 1\n",
    "}\n",
    "base_installation_cost = 200000\n",
    "base_capacity_cost = 100000\n",
    "installation_cost[\"Installation Cost\"] = installation_cost.apply(lambda row: base_installation_cost * location_multipliers[row[\"Location\"]] * type_multipliers[row[\"Type\"]], axis=1)\n",
    "\n",
    "dm_mp = pd.DataFrame(index=M.keys(), columns=P)\n",
    "dm_mp[\"p1\"] = [300000, 180000, 160000]\n",
    "dm_mp[\"p2\"] = [200000, 150000, 130000]\n",
    "dmeol_mp = pd.DataFrame(index=M.keys(), columns=P)\n",
    "dmeol_mp[\"p1\"] = [3000, 1800, 1600]\n",
    "dmeol_mp[\"p2\"] = [2000, 1500, 1300]\n",
    "\n",
    "big_M = 1000000"
   ]
  },
  {
   "cell_type": "code",
   "execution_count": 3,
   "metadata": {},
   "outputs": [
    {
     "data": {
      "text/html": [
       "<div>\n",
       "<style scoped>\n",
       "    .dataframe tbody tr th:only-of-type {\n",
       "        vertical-align: middle;\n",
       "    }\n",
       "\n",
       "    .dataframe tbody tr th {\n",
       "        vertical-align: top;\n",
       "    }\n",
       "\n",
       "    .dataframe thead th {\n",
       "        text-align: right;\n",
       "    }\n",
       "</style>\n",
       "<table border=\"1\" class=\"dataframe\">\n",
       "  <thead>\n",
       "    <tr style=\"text-align: right;\">\n",
       "      <th></th>\n",
       "      <th>Latitude</th>\n",
       "      <th>Longitude</th>\n",
       "      <th>Type</th>\n",
       "    </tr>\n",
       "  </thead>\n",
       "  <tbody>\n",
       "    <tr>\n",
       "      <th>Clermont-Ferrand</th>\n",
       "      <td>45.7831</td>\n",
       "      <td>3.0822</td>\n",
       "      <td>Factory</td>\n",
       "    </tr>\n",
       "    <tr>\n",
       "      <th>Orleans</th>\n",
       "      <td>47.9025</td>\n",
       "      <td>1.9089</td>\n",
       "      <td>Factory</td>\n",
       "    </tr>\n",
       "    <tr>\n",
       "      <th>Paris</th>\n",
       "      <td>48.8012</td>\n",
       "      <td>2.1303</td>\n",
       "      <td>Logistics Node</td>\n",
       "    </tr>\n",
       "    <tr>\n",
       "      <th>Clermont-Ferrand</th>\n",
       "      <td>45.7831</td>\n",
       "      <td>3.0822</td>\n",
       "      <td>Logistics Node</td>\n",
       "    </tr>\n",
       "    <tr>\n",
       "      <th>Paris</th>\n",
       "      <td>48.8012</td>\n",
       "      <td>2.1303</td>\n",
       "      <td>Retrofit Center</td>\n",
       "    </tr>\n",
       "    <tr>\n",
       "      <th>Lyon</th>\n",
       "      <td>45.7676</td>\n",
       "      <td>4.8350</td>\n",
       "      <td>Retrofit Center</td>\n",
       "    </tr>\n",
       "    <tr>\n",
       "      <th>Toulouse</th>\n",
       "      <td>43.6043</td>\n",
       "      <td>1.4437</td>\n",
       "      <td>Retrofit Center</td>\n",
       "    </tr>\n",
       "    <tr>\n",
       "      <th>Clermont-Ferrand</th>\n",
       "      <td>45.7831</td>\n",
       "      <td>3.0822</td>\n",
       "      <td>Retrofit Center</td>\n",
       "    </tr>\n",
       "    <tr>\n",
       "      <th>Orleans</th>\n",
       "      <td>47.9025</td>\n",
       "      <td>1.9089</td>\n",
       "      <td>Retrofit Center</td>\n",
       "    </tr>\n",
       "    <tr>\n",
       "      <th>Clermont-Ferrand</th>\n",
       "      <td>45.7831</td>\n",
       "      <td>3.0822</td>\n",
       "      <td>Recovery Center</td>\n",
       "    </tr>\n",
       "    <tr>\n",
       "      <th>Orleans</th>\n",
       "      <td>47.9025</td>\n",
       "      <td>1.9089</td>\n",
       "      <td>Recovery Center</td>\n",
       "    </tr>\n",
       "    <tr>\n",
       "      <th>Paris</th>\n",
       "      <td>48.8012</td>\n",
       "      <td>2.1303</td>\n",
       "      <td>Market</td>\n",
       "    </tr>\n",
       "    <tr>\n",
       "      <th>Lyon</th>\n",
       "      <td>45.7676</td>\n",
       "      <td>4.8350</td>\n",
       "      <td>Market</td>\n",
       "    </tr>\n",
       "    <tr>\n",
       "      <th>Toulouse</th>\n",
       "      <td>43.6043</td>\n",
       "      <td>1.4437</td>\n",
       "      <td>Market</td>\n",
       "    </tr>\n",
       "  </tbody>\n",
       "</table>\n",
       "</div>"
      ],
      "text/plain": [
       "                  Latitude  Longitude             Type\n",
       "Clermont-Ferrand   45.7831     3.0822          Factory\n",
       "Orleans            47.9025     1.9089          Factory\n",
       "Paris              48.8012     2.1303   Logistics Node\n",
       "Clermont-Ferrand   45.7831     3.0822   Logistics Node\n",
       "Paris              48.8012     2.1303  Retrofit Center\n",
       "Lyon               45.7676     4.8350  Retrofit Center\n",
       "Toulouse           43.6043     1.4437  Retrofit Center\n",
       "Clermont-Ferrand   45.7831     3.0822  Retrofit Center\n",
       "Orleans            47.9025     1.9089  Retrofit Center\n",
       "Clermont-Ferrand   45.7831     3.0822  Recovery Center\n",
       "Orleans            47.9025     1.9089  Recovery Center\n",
       "Paris              48.8012     2.1303           Market\n",
       "Lyon               45.7676     4.8350           Market\n",
       "Toulouse           43.6043     1.4437           Market"
      ]
     },
     "execution_count": 3,
     "metadata": {},
     "output_type": "execute_result"
    }
   ],
   "source": [
    "# Visualize the input data\n",
    "# Put factories on a map\n",
    "\n",
    "\n",
    "df_factory = pd.DataFrame(F).T\n",
    "df_factory.columns = [\"Latitude\", \"Longitude\"]\n",
    "df_factory[\"Type\"] = \"Factory\"\n",
    "df_logistics = pd.DataFrame(L).T\n",
    "df_logistics.columns = [\"Latitude\", \"Longitude\"]\n",
    "df_logistics[\"Type\"] = \"Logistics Node\"\n",
    "df_retail = pd.DataFrame(R).T\n",
    "df_retail.columns = [\"Latitude\", \"Longitude\"]\n",
    "df_retail[\"Type\"] = \"Retrofit Center\"\n",
    "df_recovery = pd.DataFrame(V).T\n",
    "df_recovery.columns = [\"Latitude\", \"Longitude\"]\n",
    "df_recovery[\"Type\"] = \"Recovery Center\"\n",
    "df_market = pd.DataFrame(M).T\n",
    "df_market.columns = [\"Latitude\", \"Longitude\"]\n",
    "df_market[\"Type\"] = \"Market\"\n",
    "df = pd.concat([df_factory, df_logistics, df_retail, df_recovery, df_market])\n",
    "df"
   ]
  },
  {
   "cell_type": "code",
   "execution_count": 4,
   "metadata": {},
   "outputs": [
    {
     "data": {
      "application/vnd.plotly.v1+json": {
       "config": {
        "plotlyServerURL": "https://plot.ly"
       },
       "data": [
        {
         "lat": [
          45.7831,
          47.9025
         ],
         "lon": [
          3.0822,
          1.9089
         ],
         "marker": {
          "size": 9,
          "symbol": "industrial"
         },
         "mode": "markers",
         "name": "Factory",
         "type": "scattermapbox"
        },
        {
         "lat": [
          48.8012,
          45.7831
         ],
         "lon": [
          2.1303,
          3.0822
         ],
         "marker": {
          "size": 9,
          "symbol": "warehouse"
         },
         "mode": "markers",
         "name": "Logistics Node",
         "type": "scattermapbox"
        },
        {
         "lat": [
          48.8012,
          45.7676,
          43.6043
         ],
         "lon": [
          2.1303,
          4.835,
          1.4437
         ],
         "marker": {
          "size": 9,
          "symbol": "shop"
         },
         "mode": "markers",
         "name": "Market",
         "type": "scattermapbox"
        },
        {
         "lat": [
          45.7831,
          47.9025
         ],
         "lon": [
          3.0822,
          1.9089
         ],
         "marker": {
          "size": 9,
          "symbol": "recycling"
         },
         "mode": "markers",
         "name": "Recovery Center",
         "type": "scattermapbox"
        },
        {
         "lat": [
          48.8012,
          45.7676,
          43.6043,
          45.7831,
          47.9025
         ],
         "lon": [
          2.1303,
          4.835,
          1.4437,
          3.0822,
          1.9089
         ],
         "marker": {
          "size": 9,
          "symbol": "car-repair"
         },
         "mode": "markers",
         "name": "Retrofit Center",
         "type": "scattermapbox"
        }
       ],
       "layout": {
        "mapbox": {
         "center": {
          "lat": 46.57052142857143,
          "lon": 2.6431285714285715
         },
         "style": "light",
         "zoom": 5
        },
        "template": {
         "data": {
          "bar": [
           {
            "error_x": {
             "color": "#2a3f5f"
            },
            "error_y": {
             "color": "#2a3f5f"
            },
            "marker": {
             "line": {
              "color": "#E5ECF6",
              "width": 0.5
             },
             "pattern": {
              "fillmode": "overlay",
              "size": 10,
              "solidity": 0.2
             }
            },
            "type": "bar"
           }
          ],
          "barpolar": [
           {
            "marker": {
             "line": {
              "color": "#E5ECF6",
              "width": 0.5
             },
             "pattern": {
              "fillmode": "overlay",
              "size": 10,
              "solidity": 0.2
             }
            },
            "type": "barpolar"
           }
          ],
          "carpet": [
           {
            "aaxis": {
             "endlinecolor": "#2a3f5f",
             "gridcolor": "white",
             "linecolor": "white",
             "minorgridcolor": "white",
             "startlinecolor": "#2a3f5f"
            },
            "baxis": {
             "endlinecolor": "#2a3f5f",
             "gridcolor": "white",
             "linecolor": "white",
             "minorgridcolor": "white",
             "startlinecolor": "#2a3f5f"
            },
            "type": "carpet"
           }
          ],
          "choropleth": [
           {
            "colorbar": {
             "outlinewidth": 0,
             "ticks": ""
            },
            "type": "choropleth"
           }
          ],
          "contour": [
           {
            "colorbar": {
             "outlinewidth": 0,
             "ticks": ""
            },
            "colorscale": [
             [
              0,
              "#0d0887"
             ],
             [
              0.1111111111111111,
              "#46039f"
             ],
             [
              0.2222222222222222,
              "#7201a8"
             ],
             [
              0.3333333333333333,
              "#9c179e"
             ],
             [
              0.4444444444444444,
              "#bd3786"
             ],
             [
              0.5555555555555556,
              "#d8576b"
             ],
             [
              0.6666666666666666,
              "#ed7953"
             ],
             [
              0.7777777777777778,
              "#fb9f3a"
             ],
             [
              0.8888888888888888,
              "#fdca26"
             ],
             [
              1,
              "#f0f921"
             ]
            ],
            "type": "contour"
           }
          ],
          "contourcarpet": [
           {
            "colorbar": {
             "outlinewidth": 0,
             "ticks": ""
            },
            "type": "contourcarpet"
           }
          ],
          "heatmap": [
           {
            "colorbar": {
             "outlinewidth": 0,
             "ticks": ""
            },
            "colorscale": [
             [
              0,
              "#0d0887"
             ],
             [
              0.1111111111111111,
              "#46039f"
             ],
             [
              0.2222222222222222,
              "#7201a8"
             ],
             [
              0.3333333333333333,
              "#9c179e"
             ],
             [
              0.4444444444444444,
              "#bd3786"
             ],
             [
              0.5555555555555556,
              "#d8576b"
             ],
             [
              0.6666666666666666,
              "#ed7953"
             ],
             [
              0.7777777777777778,
              "#fb9f3a"
             ],
             [
              0.8888888888888888,
              "#fdca26"
             ],
             [
              1,
              "#f0f921"
             ]
            ],
            "type": "heatmap"
           }
          ],
          "heatmapgl": [
           {
            "colorbar": {
             "outlinewidth": 0,
             "ticks": ""
            },
            "colorscale": [
             [
              0,
              "#0d0887"
             ],
             [
              0.1111111111111111,
              "#46039f"
             ],
             [
              0.2222222222222222,
              "#7201a8"
             ],
             [
              0.3333333333333333,
              "#9c179e"
             ],
             [
              0.4444444444444444,
              "#bd3786"
             ],
             [
              0.5555555555555556,
              "#d8576b"
             ],
             [
              0.6666666666666666,
              "#ed7953"
             ],
             [
              0.7777777777777778,
              "#fb9f3a"
             ],
             [
              0.8888888888888888,
              "#fdca26"
             ],
             [
              1,
              "#f0f921"
             ]
            ],
            "type": "heatmapgl"
           }
          ],
          "histogram": [
           {
            "marker": {
             "pattern": {
              "fillmode": "overlay",
              "size": 10,
              "solidity": 0.2
             }
            },
            "type": "histogram"
           }
          ],
          "histogram2d": [
           {
            "colorbar": {
             "outlinewidth": 0,
             "ticks": ""
            },
            "colorscale": [
             [
              0,
              "#0d0887"
             ],
             [
              0.1111111111111111,
              "#46039f"
             ],
             [
              0.2222222222222222,
              "#7201a8"
             ],
             [
              0.3333333333333333,
              "#9c179e"
             ],
             [
              0.4444444444444444,
              "#bd3786"
             ],
             [
              0.5555555555555556,
              "#d8576b"
             ],
             [
              0.6666666666666666,
              "#ed7953"
             ],
             [
              0.7777777777777778,
              "#fb9f3a"
             ],
             [
              0.8888888888888888,
              "#fdca26"
             ],
             [
              1,
              "#f0f921"
             ]
            ],
            "type": "histogram2d"
           }
          ],
          "histogram2dcontour": [
           {
            "colorbar": {
             "outlinewidth": 0,
             "ticks": ""
            },
            "colorscale": [
             [
              0,
              "#0d0887"
             ],
             [
              0.1111111111111111,
              "#46039f"
             ],
             [
              0.2222222222222222,
              "#7201a8"
             ],
             [
              0.3333333333333333,
              "#9c179e"
             ],
             [
              0.4444444444444444,
              "#bd3786"
             ],
             [
              0.5555555555555556,
              "#d8576b"
             ],
             [
              0.6666666666666666,
              "#ed7953"
             ],
             [
              0.7777777777777778,
              "#fb9f3a"
             ],
             [
              0.8888888888888888,
              "#fdca26"
             ],
             [
              1,
              "#f0f921"
             ]
            ],
            "type": "histogram2dcontour"
           }
          ],
          "mesh3d": [
           {
            "colorbar": {
             "outlinewidth": 0,
             "ticks": ""
            },
            "type": "mesh3d"
           }
          ],
          "parcoords": [
           {
            "line": {
             "colorbar": {
              "outlinewidth": 0,
              "ticks": ""
             }
            },
            "type": "parcoords"
           }
          ],
          "pie": [
           {
            "automargin": true,
            "type": "pie"
           }
          ],
          "scatter": [
           {
            "fillpattern": {
             "fillmode": "overlay",
             "size": 10,
             "solidity": 0.2
            },
            "type": "scatter"
           }
          ],
          "scatter3d": [
           {
            "line": {
             "colorbar": {
              "outlinewidth": 0,
              "ticks": ""
             }
            },
            "marker": {
             "colorbar": {
              "outlinewidth": 0,
              "ticks": ""
             }
            },
            "type": "scatter3d"
           }
          ],
          "scattercarpet": [
           {
            "marker": {
             "colorbar": {
              "outlinewidth": 0,
              "ticks": ""
             }
            },
            "type": "scattercarpet"
           }
          ],
          "scattergeo": [
           {
            "marker": {
             "colorbar": {
              "outlinewidth": 0,
              "ticks": ""
             }
            },
            "type": "scattergeo"
           }
          ],
          "scattergl": [
           {
            "marker": {
             "colorbar": {
              "outlinewidth": 0,
              "ticks": ""
             }
            },
            "type": "scattergl"
           }
          ],
          "scattermapbox": [
           {
            "marker": {
             "colorbar": {
              "outlinewidth": 0,
              "ticks": ""
             }
            },
            "type": "scattermapbox"
           }
          ],
          "scatterpolar": [
           {
            "marker": {
             "colorbar": {
              "outlinewidth": 0,
              "ticks": ""
             }
            },
            "type": "scatterpolar"
           }
          ],
          "scatterpolargl": [
           {
            "marker": {
             "colorbar": {
              "outlinewidth": 0,
              "ticks": ""
             }
            },
            "type": "scatterpolargl"
           }
          ],
          "scatterternary": [
           {
            "marker": {
             "colorbar": {
              "outlinewidth": 0,
              "ticks": ""
             }
            },
            "type": "scatterternary"
           }
          ],
          "surface": [
           {
            "colorbar": {
             "outlinewidth": 0,
             "ticks": ""
            },
            "colorscale": [
             [
              0,
              "#0d0887"
             ],
             [
              0.1111111111111111,
              "#46039f"
             ],
             [
              0.2222222222222222,
              "#7201a8"
             ],
             [
              0.3333333333333333,
              "#9c179e"
             ],
             [
              0.4444444444444444,
              "#bd3786"
             ],
             [
              0.5555555555555556,
              "#d8576b"
             ],
             [
              0.6666666666666666,
              "#ed7953"
             ],
             [
              0.7777777777777778,
              "#fb9f3a"
             ],
             [
              0.8888888888888888,
              "#fdca26"
             ],
             [
              1,
              "#f0f921"
             ]
            ],
            "type": "surface"
           }
          ],
          "table": [
           {
            "cells": {
             "fill": {
              "color": "#EBF0F8"
             },
             "line": {
              "color": "white"
             }
            },
            "header": {
             "fill": {
              "color": "#C8D4E3"
             },
             "line": {
              "color": "white"
             }
            },
            "type": "table"
           }
          ]
         },
         "layout": {
          "annotationdefaults": {
           "arrowcolor": "#2a3f5f",
           "arrowhead": 0,
           "arrowwidth": 1
          },
          "autotypenumbers": "strict",
          "coloraxis": {
           "colorbar": {
            "outlinewidth": 0,
            "ticks": ""
           }
          },
          "colorscale": {
           "diverging": [
            [
             0,
             "#8e0152"
            ],
            [
             0.1,
             "#c51b7d"
            ],
            [
             0.2,
             "#de77ae"
            ],
            [
             0.3,
             "#f1b6da"
            ],
            [
             0.4,
             "#fde0ef"
            ],
            [
             0.5,
             "#f7f7f7"
            ],
            [
             0.6,
             "#e6f5d0"
            ],
            [
             0.7,
             "#b8e186"
            ],
            [
             0.8,
             "#7fbc41"
            ],
            [
             0.9,
             "#4d9221"
            ],
            [
             1,
             "#276419"
            ]
           ],
           "sequential": [
            [
             0,
             "#0d0887"
            ],
            [
             0.1111111111111111,
             "#46039f"
            ],
            [
             0.2222222222222222,
             "#7201a8"
            ],
            [
             0.3333333333333333,
             "#9c179e"
            ],
            [
             0.4444444444444444,
             "#bd3786"
            ],
            [
             0.5555555555555556,
             "#d8576b"
            ],
            [
             0.6666666666666666,
             "#ed7953"
            ],
            [
             0.7777777777777778,
             "#fb9f3a"
            ],
            [
             0.8888888888888888,
             "#fdca26"
            ],
            [
             1,
             "#f0f921"
            ]
           ],
           "sequentialminus": [
            [
             0,
             "#0d0887"
            ],
            [
             0.1111111111111111,
             "#46039f"
            ],
            [
             0.2222222222222222,
             "#7201a8"
            ],
            [
             0.3333333333333333,
             "#9c179e"
            ],
            [
             0.4444444444444444,
             "#bd3786"
            ],
            [
             0.5555555555555556,
             "#d8576b"
            ],
            [
             0.6666666666666666,
             "#ed7953"
            ],
            [
             0.7777777777777778,
             "#fb9f3a"
            ],
            [
             0.8888888888888888,
             "#fdca26"
            ],
            [
             1,
             "#f0f921"
            ]
           ]
          },
          "colorway": [
           "#636efa",
           "#EF553B",
           "#00cc96",
           "#ab63fa",
           "#FFA15A",
           "#19d3f3",
           "#FF6692",
           "#B6E880",
           "#FF97FF",
           "#FECB52"
          ],
          "font": {
           "color": "#2a3f5f"
          },
          "geo": {
           "bgcolor": "white",
           "lakecolor": "white",
           "landcolor": "#E5ECF6",
           "showlakes": true,
           "showland": true,
           "subunitcolor": "white"
          },
          "hoverlabel": {
           "align": "left"
          },
          "hovermode": "closest",
          "mapbox": {
           "style": "light"
          },
          "paper_bgcolor": "white",
          "plot_bgcolor": "#E5ECF6",
          "polar": {
           "angularaxis": {
            "gridcolor": "white",
            "linecolor": "white",
            "ticks": ""
           },
           "bgcolor": "#E5ECF6",
           "radialaxis": {
            "gridcolor": "white",
            "linecolor": "white",
            "ticks": ""
           }
          },
          "scene": {
           "xaxis": {
            "backgroundcolor": "#E5ECF6",
            "gridcolor": "white",
            "gridwidth": 2,
            "linecolor": "white",
            "showbackground": true,
            "ticks": "",
            "zerolinecolor": "white"
           },
           "yaxis": {
            "backgroundcolor": "#E5ECF6",
            "gridcolor": "white",
            "gridwidth": 2,
            "linecolor": "white",
            "showbackground": true,
            "ticks": "",
            "zerolinecolor": "white"
           },
           "zaxis": {
            "backgroundcolor": "#E5ECF6",
            "gridcolor": "white",
            "gridwidth": 2,
            "linecolor": "white",
            "showbackground": true,
            "ticks": "",
            "zerolinecolor": "white"
           }
          },
          "shapedefaults": {
           "line": {
            "color": "#2a3f5f"
           }
          },
          "ternary": {
           "aaxis": {
            "gridcolor": "white",
            "linecolor": "white",
            "ticks": ""
           },
           "baxis": {
            "gridcolor": "white",
            "linecolor": "white",
            "ticks": ""
           },
           "bgcolor": "#E5ECF6",
           "caxis": {
            "gridcolor": "white",
            "linecolor": "white",
            "ticks": ""
           }
          },
          "title": {
           "x": 0.05
          },
          "xaxis": {
           "automargin": true,
           "gridcolor": "white",
           "linecolor": "white",
           "ticks": "",
           "title": {
            "standoff": 15
           },
           "zerolinecolor": "white",
           "zerolinewidth": 2
          },
          "yaxis": {
           "automargin": true,
           "gridcolor": "white",
           "linecolor": "white",
           "ticks": "",
           "title": {
            "standoff": 15
           },
           "zerolinecolor": "white",
           "zerolinewidth": 2
          }
         }
        }
       }
      }
     },
     "metadata": {},
     "output_type": "display_data"
    }
   ],
   "source": [
    "type_to_icon = {\n",
    "    'Factory': 'industrial',\n",
    "    'Logistics Node': 'warehouse',\n",
    "    'Retrofit Center': 'car-repair',\n",
    "    'Recovery Center': 'recycling',\n",
    "    'Market': 'shop'\n",
    "}\n",
    "\n",
    "# Initialize a Plotly figure\n",
    "fig = go.Figure()\n",
    "\n",
    "# Loop through each facility type and add a scattermapbox trace for each\n",
    "for facility_type, group_df in df.groupby('Type'):\n",
    "    fig.add_trace(go.Scattermapbox(\n",
    "        lat=group_df['Latitude'],\n",
    "        lon=group_df['Longitude'],\n",
    "        mode='markers',\n",
    "        marker=go.scattermapbox.Marker(\n",
    "            size=9,\n",
    "            symbol=type_to_icon[facility_type]\n",
    "        ),\n",
    "        name=facility_type\n",
    "    ))\n",
    "\n",
    "# Update layout with Mapbox access token and style\n",
    "fig.update_layout(\n",
    "    mapbox_style=\"light\",  # or use \"open-street-map\" if you don't have a Mapbox token\n",
    "    mapbox_zoom=5,\n",
    "    mapbox_center={\"lat\": df['Latitude'].mean(), \"lon\": df['Longitude'].mean()}\n",
    ")\n",
    "\n",
    "# Show the figure\n",
    "fig.show()"
   ]
  },
  {
   "cell_type": "code",
   "execution_count": 126,
   "metadata": {},
   "outputs": [
    {
     "name": "stdout",
     "output_type": "stream",
     "text": [
      "Set parameter Username\n",
      "Academic license - for non-commercial use only - expires 2024-11-26\n"
     ]
    }
   ],
   "source": [
    "model = Model(\"SupplyChainDesign1\")\n",
    "\n",
    "# Variables\n",
    "x_f = model.addVars(F, vtype=GRB.BINARY, name=\"x_f\")\n",
    "x_l = model.addVars(L, vtype=GRB.BINARY, name=\"x_l\")\n",
    "x_r = model.addVars(R, vtype=GRB.BINARY, name=\"x_r\")\n",
    "x_v = model.addVars(V, vtype=GRB.BINARY, name=\"x_v\")\n",
    "q_flp = model.addVars(F, L, P, vtype=GRB.CONTINUOUS, name=\"q_flp\")\n",
    "q_lrp = model.addVars(L, R, P, vtype=GRB.CONTINUOUS, name=\"q_lrp\")\n",
    "q_rmp = model.addVars(R, M, P, vtype=GRB.CONTINUOUS, name=\"q_rmp\")\n",
    "q_mvp = model.addVars(M, V, P, vtype=GRB.CONTINUOUS, name=\"q_mvp\")\n",
    "q_rvp = model.addVars(R, V, P, vtype=GRB.CONTINUOUS, name=\"q_rvp\")\n",
    "q_vlp = model.addVars(V, L, P, vtype=GRB.CONTINUOUS, name=\"q_vlp\")\n",
    "q_vfp = model.addVars(V, F, P, vtype=GRB.CONTINUOUS, name=\"q_vfp\")"
   ]
  },
  {
   "cell_type": "markdown",
   "metadata": {},
   "source": [
    "MIN Total Cost = Transportation Cost (TC) + Installation Cost (IC) \n",
    "Transportation Cost = $tc \\times \\left[ \\sum_{f \\in F} \\sum_{l \\in L} \\sum_{p \\in P} q_{flp} \\cdot w{ru} \\cdot d_{fl} + \\sum_{l \\in L} \\sum_{r \\in R} \\sum_{p \\in P} q_{lrp} \\cdot w{ru} \\cdot d_{lr} +  \\sum_{r \\in R} \\sum_{m \\in M} \\sum_{p \\in P} q_{rmp} \\cdot w{rpd} \\cdot d_{rm} +  \\sum_{r \\in R} \\sum_{v \\in V} \\sum_{p \\in P} q_{rvp} \\cdot w{rtp} \\cdot d_{rv} + \\sum_{v \\in V} \\sum_{l \\in L} \\sum_{p \\in P} q_{vlp} \\cdot w{ru} \\cdot d_{vl} + \\sum_{v \\in V} \\sum_{f \\in F} \\sum_{p \\in P} q_{vfp} \\cdot w{rp} \\cdot d_{vf} +  \\sum_{m \\in M} \\sum_{v \\in V} \\sum_{p \\in P} q_{mvp} \\cdot w_{eolpd} \\cdot d_{mv} \\right]$"
   ]
  },
  {
   "cell_type": "code",
   "execution_count": 127,
   "metadata": {},
   "outputs": [],
   "source": [
    "# Objective\n",
    "transportation = quicksum(tc * q_flp[f, l, p] * wru * distance_matrix.loc[f, l] for f in F for l in L for p in P) + quicksum(tc * q_lrp[l, r, p] * wru * distance_matrix.loc[l, r] for l in L for r in R for p in P) \n",
    "transportation += quicksum(tc * q_rmp[r, m, p] * wrpd * distance_matrix.loc[r, m] for r in R for m in M for p in P) \n",
    "transportation += quicksum(tc * q_mvp[m, v, p] * weolpd * distance_matrix.loc[m, v] for m in M for v in V for p in P) \n",
    "transportation += quicksum(tc * q_rvp[r, v, p] * wrtp * distance_matrix.loc[r, v] for r in R for v in V for p in P) \n",
    "transportation += quicksum(tc * q_vlp[v, l, p] * wru * distance_matrix.loc[v, l] for v in V for l in L for p in P) \n",
    "transportation += quicksum(tc * q_vfp[v, f, p] * wrp * distance_matrix.loc[v, f] for v in V for f in F for p in P)\n",
    "\n",
    "\n",
    "installation = quicksum(installation_cost[(installation_cost.Type==\"Factory\") & (installation_cost.Location==f)][\"Installation Cost\"].values[0] * x_f[f] for f in F) \n",
    "installation += quicksum(installation_cost[(installation_cost.Type==\"Logistics Node\") & (installation_cost.Location==l)][\"Installation Cost\"].values[0] * x_l[l] for l in L) \n",
    "installation += quicksum(installation_cost[(installation_cost.Type==\"Retrofit Center\") & (installation_cost.Location==r)][\"Installation Cost\"].values[0] * x_r[r] for r in R) \n",
    "installation += quicksum(installation_cost[(installation_cost.Type==\"Recovery Center\") & (installation_cost.Location==v)][\"Installation Cost\"].values[0] * x_v[v] for v in V)\n",
    "\n",
    "model.setObjective(transportation + installation, GRB.MINIMIZE)"
   ]
  },
  {
   "cell_type": "code",
   "execution_count": 128,
   "metadata": {},
   "outputs": [],
   "source": [
    "# Constraints\n",
    "# Demand fulfillment constraints\n",
    "for m_seg in M:\n",
    "    for p in P:\n",
    "        model.addConstr(quicksum(q_rmp[r, m_seg, p] for r in R) == dm_mp.loc[m_seg, p])\n",
    "        model.addConstr(quicksum(q_mvp[m_seg, v, p] for v in V) == dmeol_mp.loc[m_seg, p])\n",
    "\n",
    "# Facility operation constraints\n",
    "for f in F:\n",
    "    for p in P:\n",
    "        for l in L:\n",
    "            model.addConstr(q_flp[f, l, p] <= big_M * x_f[f])\n",
    "            model.addConstr(q_flp[f, l, p] <= big_M * x_l[l])\n",
    "for l in L:\n",
    "    for p in P:\n",
    "        for r in R:\n",
    "            model.addConstr(q_lrp[l, r, p] <= big_M * x_l[l])\n",
    "            model.addConstr(q_lrp[l, r, p] <= big_M * x_r[r])\n",
    "for r in R:\n",
    "    for p in P:\n",
    "        for m in M:\n",
    "            model.addConstr(q_rmp[r, m, p] <= big_M * x_r[r])\n",
    "for r in R:\n",
    "    for p in P:\n",
    "        for v in V:\n",
    "            model.addConstr(q_rvp[r, v, p] <= big_M * x_r[r])\n",
    "            model.addConstr(q_rvp[r, v, p] <= big_M * x_v[v])\n",
    "for v in V:\n",
    "    for p in P:\n",
    "        for l in L:\n",
    "            model.addConstr(q_vlp[v, l, p] <= big_M * x_v[v])\n",
    "            model.addConstr(q_vlp[v, l, p] <= big_M * x_l[l])\n",
    "for v in V:\n",
    "    for p in P:\n",
    "        for f in F:\n",
    "            model.addConstr(q_vfp[v, f, p] <= big_M * x_v[v])\n",
    "            model.addConstr(q_vfp[v, f, p] <= big_M * x_f[f])\n",
    "for m in M:\n",
    "    for p in P:\n",
    "        for v in V:\n",
    "            model.addConstr(q_mvp[m, v, p] <= big_M * x_v[v])\n",
    "\n",
    "# Flow conservation constraints\n",
    "for f in F:\n",
    "    for p in P:\n",
    "        model.addConstr(quicksum(q_flp[f, l, p] for l in L) >= quicksum(q_vfp[v, f, p] for v in V))\n",
    "for l in L:\n",
    "    for p in P:\n",
    "        model.addConstr(quicksum(q_flp[f, l, p] for f in F) + quicksum(q_vlp[v, l, p] for v in V) == quicksum(q_lrp[l, r, p] for r in R))\n",
    "for r in R:\n",
    "    for p in P:\n",
    "        model.addConstr(quicksum(q_lrp[l, r, p] for l in L) == quicksum(q_rmp[r, m, p] for m in M))\n",
    "for r in R:\n",
    "    for p in P:\n",
    "        model.addConstr(quicksum(q_rmp[r, m, p] for m in M) == quicksum(q_rvp[r, v, p] for v in V))\n",
    "for v in V:\n",
    "    for p in P:\n",
    "        model.addConstr(quicksum(q_vlp[v, l, p] for l in L) + quicksum(q_vfp[v, f, p] for f in F) <= quicksum(q_mvp[m, v, p] for m in M))"
   ]
  },
  {
   "cell_type": "code",
   "execution_count": 129,
   "metadata": {},
   "outputs": [
    {
     "name": "stdout",
     "output_type": "stream",
     "text": [
      "Gurobi Optimizer version 10.0.3 build v10.0.3rc0 (win64)\n",
      "\n",
      "CPU model: Intel(R) Core(TM) i7-10850H CPU @ 2.70GHz, instruction set [SSE2|AVX|AVX2]\n",
      "Thread count: 6 physical cores, 12 logical processors, using up to 12 threads\n",
      "\n",
      "Optimize a model with 214 rows, 117 columns and 562 nonzeros\n",
      "Model fingerprint: 0x05f0aeb3\n",
      "Variable types: 106 continuous, 11 integer (11 binary)\n",
      "Coefficient statistics:\n",
      "  Matrix range     [1e+00, 1e+06]\n",
      "  Objective range  [1e+03, 1e+06]\n",
      "  Bounds range     [1e+00, 1e+00]\n",
      "  RHS range        [1e+03, 3e+05]\n",
      "Found heuristic solution: objective 2.895407e+10\n",
      "Presolve removed 26 rows and 14 columns\n",
      "Presolve time: 0.01s\n",
      "Presolved: 188 rows, 103 columns, 494 nonzeros\n",
      "Variable types: 92 continuous, 11 integer (11 binary)\n",
      "\n",
      "Root relaxation: objective 4.671761e+09, 31 iterations, 0.00 seconds (0.00 work units)\n",
      "\n",
      "    Nodes    |    Current Node    |     Objective Bounds      |     Work\n",
      " Expl Unexpl |  Obj  Depth IntInf | Incumbent    BestBd   Gap | It/Node Time\n",
      "\n",
      "     0     0 4.6718e+09    0    4 2.8954e+10 4.6718e+09  83.9%     -    0s\n",
      "H    0     0                    4.673224e+09 4.6718e+09  0.03%     -    0s\n",
      "\n",
      "Explored 1 nodes (31 simplex iterations) in 0.06 seconds (0.00 work units)\n",
      "Thread count was 12 (of 12 available processors)\n",
      "\n",
      "Solution count 2: 4.67322e+09 2.89541e+10 \n",
      "\n",
      "Optimal solution found (tolerance 1.00e-04)\n",
      "Best objective 4.673224109849e+09, best bound 4.673224109849e+09, gap 0.0000%\n",
      "Optimal solution found with total cost 4673224109.849101\n",
      "x_f[Clermont-Ferrand] 1.0\n",
      "x_f[Orleans] 1.0\n",
      "x_l[Paris] 1.0\n",
      "x_l[Clermont-Ferrand] 1.0\n",
      "x_r[Paris] 1.0\n",
      "x_r[Lyon] 1.0\n",
      "x_r[Toulouse] 1.0\n",
      "x_v[Clermont-Ferrand] 1.0\n",
      "x_v[Orleans] 1.0\n",
      "q_flp[Clermont-Ferrand,Clermont-Ferrand,p1] 337837.8378378378\n",
      "q_flp[Clermont-Ferrand,Clermont-Ferrand,p2] 278378.3783783784\n",
      "q_flp[Orleans,Paris,p1] 297000.0\n",
      "q_flp[Orleans,Paris,p2] 198000.0\n",
      "q_lrp[Paris,Paris,p1] 300000.0\n",
      "q_lrp[Paris,Paris,p2] 200000.0\n",
      "q_lrp[Clermont-Ferrand,Lyon,p1] 180000.0\n",
      "q_lrp[Clermont-Ferrand,Lyon,p2] 150000.0\n",
      "q_lrp[Clermont-Ferrand,Toulouse,p1] 160000.0\n",
      "q_lrp[Clermont-Ferrand,Toulouse,p2] 130000.0\n",
      "q_rmp[Paris,Paris,p1] 300000.0\n",
      "q_rmp[Paris,Paris,p2] 200000.0\n",
      "q_rmp[Lyon,Lyon,p1] 180000.0\n",
      "q_rmp[Lyon,Lyon,p2] 150000.0\n",
      "q_rmp[Toulouse,Toulouse,p1] 160000.0\n",
      "q_rmp[Toulouse,Toulouse,p2] 130000.0\n",
      "q_mvp[Paris,Orleans,p1] 3000.0\n",
      "q_mvp[Paris,Orleans,p2] 2000.0\n",
      "q_mvp[Lyon,Clermont-Ferrand,p1] 1800.0\n",
      "q_mvp[Lyon,Clermont-Ferrand,p2] 1500.0\n",
      "q_mvp[Toulouse,Clermont-Ferrand,p1] 1600.0\n",
      "q_mvp[Toulouse,Clermont-Ferrand,p2] 1300.0\n",
      "q_rvp[Paris,Orleans,p1] 300000.0\n",
      "q_rvp[Paris,Orleans,p2] 200000.0\n",
      "q_rvp[Lyon,Clermont-Ferrand,p1] 180000.0\n",
      "q_rvp[Lyon,Clermont-Ferrand,p2] 150000.0\n",
      "q_rvp[Toulouse,Clermont-Ferrand,p1] 160000.0\n",
      "q_rvp[Toulouse,Clermont-Ferrand,p2] 130000.0\n",
      "q_vlp[Clermont-Ferrand,Clermont-Ferrand,p1] 2162.162162162189\n",
      "q_vlp[Clermont-Ferrand,Clermont-Ferrand,p2] 1621.6216216216217\n",
      "q_vlp[Orleans,Paris,p1] 3000.0\n",
      "q_vlp[Orleans,Paris,p2] 2000.0\n"
     ]
    }
   ],
   "source": [
    "model.optimize()\n",
    "if model.status == GRB.OPTIMAL:\n",
    "    print(\"Optimal solution found with total cost\", model.objVal)\n",
    "    for v in model.getVars():\n",
    "        if v.x > 0:\n",
    "            print(v.varName, v.x)\n"
   ]
  }
 ],
 "metadata": {
  "kernelspec": {
   "display_name": "viz",
   "language": "python",
   "name": "python3"
  },
  "language_info": {
   "codemirror_mode": {
    "name": "ipython",
    "version": 3
   },
   "file_extension": ".py",
   "mimetype": "text/x-python",
   "name": "python",
   "nbconvert_exporter": "python",
   "pygments_lexer": "ipython3",
   "version": "3.9.18"
  }
 },
 "nbformat": 4,
 "nbformat_minor": 2
}
